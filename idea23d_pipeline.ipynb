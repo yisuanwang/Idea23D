{
 "cells": [
  {
   "cell_type": "code",
   "execution_count": 1,
   "metadata": {},
   "outputs": [],
   "source": [
    "IDEApath = '/mnt/chenjh/Idea23D/input/case1'\n",
    "num_img = 1 \n",
    "num_draft = 3\n",
    "max_iters = 5\n",
    "outpath = '/mnt/chenjh/Idea23D/output/case1-0410-llava-34b'"
   ]
  },
  {
   "cell_type": "code",
   "execution_count": 2,
   "metadata": {},
   "outputs": [
    {
     "name": "stdout",
     "output_type": "stream",
     "text": [
      "[2024-04-10 16:28:25,203] [INFO] [real_accelerator.py:191:get_accelerator] Setting ds_accelerator to cuda (auto detect)\n",
      "pygame 2.5.2 (SDL 2.28.2, Python 3.10.13)\n",
      "Hello from the pygame community. https://www.pygame.org/contribute.html\n"
     ]
    }
   ],
   "source": [
    "import cv2\n",
    "import numpy as np\n",
    "from transformers import SegformerFeatureExtractor, SegformerForSemanticSegmentation\n",
    "from PIL import Image\n",
    "import argparse\n",
    "import os\n",
    "import json\n",
    "from http import HTTPStatus\n",
    "from transformers import AutoProcessor, LlavaNextForConditionalGeneration\n",
    "from transformers import LlavaNextProcessor, LlavaNextForConditionalGeneration\n",
    "import torch\n",
    "import requests\n",
    "import pygame\n",
    "from pygame.locals import *\n",
    "from OpenGL.GL import *\n",
    "from OpenGL.GLU import *\n",
    "import pywavefront\n",
    "import re\n",
    "import replicate\n",
    "    \n",
    "def log(text):\n",
    "    print(f'\\n[IDEA-2-3D]: {text}')\n",
    "\n",
    "\n",
    "\n",
    "import requests\n",
    "import base64\n",
    "import json\n",
    "from io import BytesIO\n",
    "from PIL import Image\n",
    "\n",
    "\n",
    "\n",
    "class lmm_gpt4v:\n",
    "    def __init__(self, api_key=''):\n",
    "        self.api_key = api_key\n",
    "\n",
    "    def encode_image(self, image):\n",
    "        \"\"\"Encode PIL image to base64, converting RGBA images to RGB.\"\"\"\n",
    "        if image.mode == 'RGBA':\n",
    "            image = image.convert('RGB')\n",
    "        buffered = BytesIO()\n",
    "        image.save(buffered, format=\"JPEG\")\n",
    "        return base64.b64encode(buffered.getvalue()).decode('utf-8')\n",
    "\n",
    "    def inference(self, question: str, image):\n",
    "        \"\"\"Make an inference request to the GPT-4 Vision API with an image and a question.\"\"\"\n",
    "        base64_image = self.encode_image(image)\n",
    "        \n",
    "        headers = {\n",
    "            \"Content-Type\": \"application/json\",\n",
    "            \"Authorization\": f\"Bearer {self.api_key}\"\n",
    "        }\n",
    "        \n",
    "        payload = {\n",
    "            \"model\": \"gpt-4-vision-preview\",\n",
    "            \"messages\": [\n",
    "                {\n",
    "                    \"role\": \"user\",\n",
    "                    \"content\": [\n",
    "                        {\n",
    "                            \"type\": \"text\",\n",
    "                            \"text\": question\n",
    "                        },\n",
    "                        {\n",
    "                            \"type\": \"image_url\",\n",
    "                            \"image_url\": {\n",
    "                                \"url\": f\"data:image/jpeg;base64,{base64_image}\"\n",
    "                            }\n",
    "                        }\n",
    "                    ]\n",
    "                }\n",
    "            ],\n",
    "            \"max_tokens\": 300\n",
    "        }\n",
    "        \n",
    "        response = requests.post(\"https://api.openai.com/v1/chat/completions\", headers=headers, json=payload)\n",
    "        return response.json()['choices'][0]['message']['content']\n",
    "\n",
    "\n",
    "class lmm_llava_34b():\n",
    "    \n",
    "    def __init__(self, model_path = \"llava-hf/llava-v1.6-34b-hf\", gpuid = 0): \n",
    "        self.gpuid = gpuid\n",
    "        from transformers import LlavaNextProcessor, LlavaNextForConditionalGeneration\n",
    "        self.processor = LlavaNextProcessor.from_pretrained(model_path)\n",
    "        self.model = LlavaNextForConditionalGeneration.from_pretrained(model_path, torch_dtype=torch.float16, low_cpu_mem_usage=True) \n",
    "        self.model.to(f\"cuda:{gpuid}\")\n",
    "        \n",
    "    def inference(self, question: str, images_list):\n",
    "        if type(images_list) == list:\n",
    "            # 拼接图像\n",
    "            image = concatenate_images_with_number_label(images_list)\n",
    "        else:\n",
    "            image = images_list\n",
    "        \n",
    "        # 对图像进行比较\n",
    "        prompt = f\"<|im_start|>system\\nAnswer the questions.<|im_end|><|im_start|>user\\n<image>\\n{question}<|im_end|><|im_start|>assistant\\n\"\n",
    "        inputs = self.processor(prompt, image, return_tensors=\"pt\").to(f\"cuda:{self.gpuid}\")\n",
    "        output = self.model.generate(**inputs, max_new_tokens=1000)\n",
    "        res = self.processor.decode(output[0], skip_special_tokens=True)\n",
    "        \n",
    "        start_index = res.find(\"<|im_start|> assistant\\n\")\n",
    "        if start_index != -1:\n",
    "            content = res[start_index + len(\"<|im_start|> assistant\\n\"):]\n",
    "            # log(content)\n",
    "        return content\n",
    "    \n",
    "    def image_caption(self, image):\n",
    "        image_caption_prompt = 'Describe the details of this image in detail, including the color, pose, lighting, and environment of the target object.'\n",
    "        return self.inference(image_caption_prompt, image)\n",
    "    pass\n",
    "\n",
    "\n",
    "class lmm_llava_7b():\n",
    "    \n",
    "    def __init__(self, model_path = \"llava-hf/llava-v1.6-mistral-7b-hf\", gpuid = 0): \n",
    "        self.gpuid = gpuid\n",
    "        from transformers import LlavaNextProcessor, LlavaNextForConditionalGeneration\n",
    "        self.processor = LlavaNextProcessor.from_pretrained(model_path)\n",
    "        self.model = LlavaNextForConditionalGeneration.from_pretrained(model_path, torch_dtype=torch.float16, low_cpu_mem_usage=True) \n",
    "        self.model.to(f\"cuda:{gpuid}\")\n",
    "        \n",
    "    def inference(self, question: str, images_list):\n",
    "        if type(images_list) == list:\n",
    "            # 拼接图像\n",
    "            image = concatenate_images_with_number_label(images_list)\n",
    "        else:\n",
    "            image = images_list\n",
    "        \n",
    "        # 对图像进行比较\n",
    "        \n",
    "        prompt = f\"[INST] <image>\\n{question} [/INST]\"\n",
    "        inputs = self.processor(prompt, image, return_tensors=\"pt\").to(f\"cuda:{self.gpuid}\")\n",
    "        output = self.model.generate(**inputs, max_new_tokens=1000)\n",
    "\n",
    "        res = self.processor.decode(output[0], skip_special_tokens=True)\n",
    "        \n",
    "        result = re.search(r'\\[/INST\\](.*)', res)\n",
    "        if result:\n",
    "            res = result.group(1)\n",
    "            # log(f'lmm res={res}')\n",
    "    \n",
    "        return res\n",
    "    \n",
    "    def image_caption(self, image):\n",
    "        image_caption_prompt = 'Describe the details of this image in detail, including the color, pose, lighting, and environment of the target object.'\n",
    "        return self.inference(image_caption_prompt, image)\n",
    "    pass\n",
    "\n",
    "from diffusers import DiffusionPipeline\n",
    "import torch\n",
    "\n",
    "class text2img_sdxl():\n",
    "    def __init__(self, sdxl_base_path='stabilityai/stable-diffusion-xl-base-1.0', sdxl_refiner_path='stabilityai/stable-diffusion-xl-refiner-1.0', gpuid=1,variant=\"fp16\"):\n",
    "        self.sdxl_base_path=sdxl_base_path\n",
    "        self.sdxl_refiner_path=sdxl_refiner_path\n",
    "        self.gpuid=gpuid\n",
    "        # load both base & refiner\n",
    "        self.base = DiffusionPipeline.from_pretrained(\n",
    "            sdxl_base_path, \n",
    "            torch_dtype=torch.float32,\n",
    "            # variant=\"fp16\", \n",
    "            use_safetensors=True\n",
    "        )\n",
    "        self.base.to(f\"cuda:{gpuid}\")\n",
    "        self.refiner = DiffusionPipeline.from_pretrained(\n",
    "            sdxl_refiner_path,\n",
    "            text_encoder_2=self.base.text_encoder_2,\n",
    "            vae=self.base.vae,\n",
    "            torch_dtype=torch.float32,\n",
    "            use_safetensors=True,\n",
    "            # variant=\"fp16\",\n",
    "        )\n",
    "        self.refiner.to(f\"cuda:{gpuid}\")\n",
    "\n",
    "    def inference(self, prompt):\n",
    "        # Define how many steps and what % of steps to be run on each experts (80/20) here\n",
    "        n_steps = 40\n",
    "        high_noise_frac = 0.8\n",
    "\n",
    "        # run both experts\n",
    "        image = self.base(\n",
    "            prompt=prompt,\n",
    "            num_inference_steps=n_steps,\n",
    "            denoising_end=high_noise_frac,\n",
    "            output_type=\"latent\",\n",
    "        ).images\n",
    "        image = self.refiner(\n",
    "            prompt=prompt,\n",
    "            num_inference_steps=n_steps,\n",
    "            denoising_start=high_noise_frac,\n",
    "            image=image,\n",
    "        ).images[0]\n",
    "        \n",
    "        return image\n",
    "\n",
    "    \n",
    "    pass\n",
    "\n",
    "\n",
    "class text2img_sdxl_replicate():\n",
    "    def __init__(self, replicate_key='see https://replicate.com/stability-ai/sdxl/api'):\n",
    "        self.replicate_key=replicate_key\n",
    "        \n",
    "\n",
    "    def inference(self, prompt):\n",
    "        import replicate\n",
    "        from PIL import Image\n",
    "        import os\n",
    "\n",
    "        replicate = replicate.Client(api_token=self.replicate_key)\n",
    "\n",
    "        input = {\n",
    "            \"width\": 1024,\n",
    "            \"height\": 1024,\n",
    "            \"prompt\": prompt,\n",
    "            \"refine\": \"expert_ensemble_refiner\",\n",
    "            \"apply_watermark\": False,\n",
    "            \"num_inference_steps\": 25\n",
    "        }\n",
    "\n",
    "        output = replicate.run(\n",
    "            \"stability-ai/sdxl:39ed52f2a78e934b3ba6e2a89f5b1c712de7dfea535525255b1aa35c5565e08b\",\n",
    "            input=input\n",
    "        )\n",
    "\n",
    "        response = requests.get(output[0])\n",
    "        image_data = BytesIO(response.content)\n",
    "        image = Image.open(image_data)\n",
    "        \n",
    "        return image\n",
    "\n",
    "    \n",
    "    pass\n",
    "\n",
    "import sys\n",
    "# 添加 tool 目录到 sys.path，使得 Python 能找到你的模块\n",
    "module_path = './tool'\n",
    "if module_path not in sys.path:\n",
    "    sys.path.append(module_path)\n",
    "\n",
    "from i23d.TripoSR.run import TripoSRmain\n",
    "\n",
    "class img23d_TripoSR():\n",
    "    \n",
    "    def __init__(self, model_path = 'stabilityai/TripoSR', gpuid=1):\n",
    "        self.gpuid = gpuid\n",
    "        self.model_path = model_path\n",
    "        \n",
    "        \n",
    "    def inference(self, png_path, output_path):\n",
    "        # CUDA_VISIBLE_DEVICES=6 python /mnt/chenjh/Idea23D/tool/i23d/TripoSR/run.py /mnt/chenjh/Idea23D/input/a111.png --output-dir /mnt/chenjh/Idea23D/input --render\n",
    "        print('png_path,=',png_path)\n",
    "        res = TripoSRmain(self.gpuid, self.model_path, png_path, output_path)\n",
    "        # os.system(f'CUDA_VISIBLE_DEVICES={self.gpuid} python {self.model_path}/run.py {png_path} --output-dir {output_path} --render')\n",
    "        return f'{output_path}/mesh.obj'\n",
    "\n",
    "    pass\n",
    "\n",
    "def readimage(path):\n",
    "    with open(path, 'rb') as file:\n",
    "        image = Image.open(path).convert(\"RGB\")\n",
    "        resized_image = image.resize((256, 256))\n",
    "    return resized_image\n",
    "\n",
    "def writeimage(image, path):\n",
    "    # Check if the directory exists, and create it if it doesn't\n",
    "    directory = os.path.dirname(path)\n",
    "    if not os.path.exists(directory):\n",
    "        os.makedirs(directory)\n",
    "    \n",
    "    # Save the image to the path\n",
    "    with open(path, 'wb') as file:\n",
    "        image.save(file, 'PNG')  # Use 'PNG' to ensure proper saving of PNG files\n",
    "\n",
    "    \n",
    "class Memory():\n",
    "    # 记忆模块\n",
    "    # 初始idea\n",
    "    idea_input_imglist = []\n",
    "    idea_input_img = None # 合并后的img\n",
    "    idea_input_prompt = ''\n",
    "    \n",
    "    best_img = None\n",
    "    best_prompt = None\n",
    "    best_3d_path = None\n",
    "    \n",
    "    feedback = ''\n",
    "    pass\n",
    "\n",
    "\n",
    "class Iter():\n",
    "    # 每一轮的结果\n",
    "    def __init__(self, index):\n",
    "        self.index = index\n",
    "    idea_input_imglist = []\n",
    "    prompt = []\n",
    "    draft_img = []\n",
    "    draft_3d_path = []\n",
    "    best_img = None\n",
    "    best_3d_path = ''\n",
    "    best_prompt = ''\n",
    "    \n",
    "    def clear(self):\n",
    "        self.idea_input_imglist = []\n",
    "        self.prompt = []\n",
    "        self.draft_img = []\n",
    "        self.draft_3d_path = []\n",
    "        self.best_img = None\n",
    "        self.best_3d_path = ''\n",
    "        self.best_prompt = ''\n",
    "    \n"
   ]
  },
  {
   "cell_type": "code",
   "execution_count": 3,
   "metadata": {},
   "outputs": [
    {
     "name": "stderr",
     "output_type": "stream",
     "text": [
      "You set `add_prefix_space`. The tokenizer needs to be converted from the slow tokenizers\n"
     ]
    },
    {
     "name": "stdout",
     "output_type": "stream",
     "text": [
      "\n",
      "[IDEA-2-3D]: loading lmm...\n"
     ]
    },
    {
     "data": {
      "application/vnd.jupyter.widget-view+json": {
       "model_id": "536557a1681a4112a6a3b7b9607bd88f",
       "version_major": 2,
       "version_minor": 0
      },
      "text/plain": [
       "Loading checkpoint shards:   0%|          | 0/15 [00:00<?, ?it/s]"
      ]
     },
     "metadata": {},
     "output_type": "display_data"
    },
    {
     "name": "stdout",
     "output_type": "stream",
     "text": [
      "\n",
      "[IDEA-2-3D]: loading t2i...\n"
     ]
    },
    {
     "data": {
      "application/vnd.jupyter.widget-view+json": {
       "model_id": "877675133c664a4dbdcb7750bdcbb51b",
       "version_major": 2,
       "version_minor": 0
      },
      "text/plain": [
       "Loading pipeline components...:   0%|          | 0/7 [00:00<?, ?it/s]"
      ]
     },
     "metadata": {},
     "output_type": "display_data"
    },
    {
     "data": {
      "application/vnd.jupyter.widget-view+json": {
       "model_id": "caf8aa526b9e416880b4b4f54ba675b9",
       "version_major": 2,
       "version_minor": 0
      },
      "text/plain": [
       "Loading pipeline components...:   0%|          | 0/5 [00:00<?, ?it/s]"
      ]
     },
     "metadata": {},
     "output_type": "display_data"
    },
    {
     "name": "stdout",
     "output_type": "stream",
     "text": [
      "\n",
      "[IDEA-2-3D]: loading i23d...\n",
      "\n",
      "[IDEA-2-3D]: loading finish.\n"
     ]
    }
   ],
   "source": [
    "# 初始化LMM,T2I,I23D\n",
    "log('loading lmm...')\n",
    "\n",
    "# lmm = lmm_gpt4v('sk-your open ai key')\n",
    "lmm = lmm_llava_34b(model_path = \"/mnt/chenjh/LargeModels/llava-v1.6-34b-hf\", gpuid = 4)\n",
    "# lmm = lmm_llava_7b(model_path = \"/mnt/chenjh/LargeModels/llava-v1.6-mistral-7b-hf\", gpuid = 2)\n",
    "\n",
    "log('loading t2i...')\n",
    "# t2i = text2img_sdxl_replicate(replicate_key='r8_ZCtKyMJqjyqVF76N6mycGNHEgF6cTTF1EZtmG')\n",
    "t2i = text2img_sdxl(sdxl_base_path='/mnt/chenjh/LargeModels/stable-diffusion-xl-base-1.0', \n",
    "                    sdxl_refiner_path='/mnt/chenjh/LargeModels/stable-diffusion-xl-refiner-1.0', \n",
    "                    gpuid=6)\n",
    "\n",
    "log('loading i23d...')\n",
    "i23d = img23d_TripoSR(model_path = '/mnt/chenjh/LargeModels/TripoSR' ,gpuid=7)\n",
    "log('loading finish.')"
   ]
  },
  {
   "cell_type": "code",
   "execution_count": 4,
   "metadata": {},
   "outputs": [
    {
     "name": "stdout",
     "output_type": "stream",
     "text": [
      "png_path,= /mnt/chenjh/Idea23D/output/case1-0409-006-34b/draft/iter-1-0-0/draft.png\n"
     ]
    },
    {
     "name": "stderr",
     "output_type": "stream",
     "text": [
      "2024-04-10 16:28:48,456 - INFO - Initializing model ...\n",
      "2024-04-10 16:28:53,968 - INFO - Initializing model finished in 5511.89ms.\n",
      "2024-04-10 16:28:53,969 - INFO - Processing image ...\n",
      "2024-04-10 16:28:53,969 - ERROR - Provided path is not a file: /mnt/chenjh/Idea23D/output/case1-0409-006-34b/draft/iter-1-0-0/draft.png\n"
     ]
    },
    {
     "data": {
      "text/plain": [
       "'/mnt/chenjh/Idea23D/output/case1-0409-006-34b/draft/iter-1-0-0/mesh.obj'"
      ]
     },
     "execution_count": 4,
     "metadata": {},
     "output_type": "execute_result"
    }
   ],
   "source": [
    "i23d.inference('/mnt/chenjh/Idea23D/output/case1-0409-006-34b/draft/iter-1-0-0/draft.png', '/mnt/chenjh/Idea23D/output/case1-0409-006-34b/draft/iter-1-0-0')"
   ]
  },
  {
   "cell_type": "code",
   "execution_count": 5,
   "metadata": {},
   "outputs": [],
   "source": [
    "\n",
    "from PIL import Image\n",
    "import numpy as np\n",
    "import datetime\n",
    "import os\n",
    "import cv2\n",
    "\n",
    "def concatenate_images_with_number_label(images_list, direction=\"h\", output_folder=f'{outpath}/tmp'):\n",
    "    # Check if images_list contains PIL images\n",
    "    if not all(isinstance(image, Image.Image) for image in images_list):\n",
    "        raise ValueError(\"All images in images_list must be PIL images.\")\n",
    "    \n",
    "    # Check direction parameter\n",
    "    if direction not in [\"h\", \"v\"]:\n",
    "        raise ValueError(\"Invalid direction parameter. It must be 'h' for horizontal or 'v' for vertical concatenation.\")\n",
    "    \n",
    "    # Check output folder\n",
    "    if not os.path.exists(output_folder):\n",
    "        os.makedirs(output_folder)  # Create the target folder if it doesn't exist\n",
    "    \n",
    "    # Convert PIL images to numpy arrays for processing\n",
    "    np_images = [np.array(image) for image in images_list]\n",
    "    \n",
    "    # Check if we're concatenating horizontally or vertically and create a canvas\n",
    "    if direction == \"h\":\n",
    "        total_width = sum(image.size[0] for image in images_list)\n",
    "        max_height = max(image.size[1] for image in images_list)\n",
    "        concatenated_image = Image.new('RGB', (total_width, max_height))\n",
    "    elif direction == \"v\":\n",
    "        total_height = sum(image.size[1] for image in images_list)\n",
    "        max_width = max(image.size[0] for image in images_list)\n",
    "        concatenated_image = Image.new('RGB', (max_width, total_height))\n",
    "    \n",
    "    # Paste images onto the canvas\n",
    "    x_offset, y_offset = 0, 0\n",
    "    for image in images_list:\n",
    "        concatenated_image.paste(image, (x_offset, y_offset))\n",
    "        if direction == \"h\":\n",
    "            x_offset += image.size[0]\n",
    "        elif direction == \"v\":\n",
    "            y_offset += image.size[1]\n",
    "    \n",
    "    # Save the image\n",
    "    timestamp = datetime.datetime.now().strftime(\"%Y%m%d%H%M%S%f\")\n",
    "    output_path = os.path.join(output_folder, f\"concatenated_image-{timestamp}.png\")\n",
    "    \n",
    "    log(f'concatenated_image output_path={output_path}')\n",
    "    concatenated_image.save(output_path)\n",
    "    \n",
    "    return concatenated_image"
   ]
  },
  {
   "cell_type": "code",
   "execution_count": 6,
   "metadata": {},
   "outputs": [
    {
     "name": "stdout",
     "output_type": "stream",
     "text": [
      "\n",
      "[IDEA-2-3D]: img_list.append(image)\n",
      "\n",
      "[IDEA-2-3D]: img_list.append(image)\n",
      "\n",
      "[IDEA-2-3D]: img_list size = {len(img_list)}\n",
      "\n",
      "[IDEA-2-3D]: memory.idea_input_imglist size = 2\n",
      "\n",
      "[IDEA-2-3D]: memory.idea_input_imglist = [<PIL.Image.Image image mode=RGB size=256x256 at 0x7F3C681AF160>, <PIL.Image.Image image mode=RGB size=256x256 at 0x7F3C80853730>]\n",
      "\n",
      "[IDEA-2-3D]: concatenated_image output_path=/mnt/chenjh/Idea23D/output/case1-0410-llava-34b/tmp/concatenated_image-20240410163118558998.png\n",
      "\n",
      "[IDEA-2-3D]: memory.idea_input_img = <PIL.Image.Image image mode=RGB size=512x256 at 0x7F3C80198AC0>\n",
      "\n",
      "[IDEA-2-3D]: memory.idea_input_prompt = This brown rabbit [The image shows a close-up of a rabbit with a fluffy, light brown coat. The rabbit has large, pointed ears and expressive eyes that are looking directly at the viewer. Its whiskers are prominent, and it appears to be sitting upright with its front paws slightly apart. The background is a solid black, which contrasts with the rabbit's fur and highlights the animal. The image is a realistic photograph with a focus on the rabbit, and there are no visible texts or additional elements in the frame.] uses two front paws to engage in the action of eating this doughnut [The image displays a single doughnut with a glossy pink glaze. The glaze appears to be freshly applied, as indicated by the visible drips on the side of the doughnut. It is sprinkled with a variety of colorful sprinkles that are scattered across the glaze, adding a playful and festive touch to the doughnut's appearance. The doughnut itself has a golden-brown color, suggesting it has been fried, and it has a hole in the center. The background of the image is a solid black, which contrasts with the doughnut and makes it stand out prominently. There are no texts or additional elements in the image. The style of the image is a realistic 3D rendering, with a focus on the doughnut to highlight its details and textures.].\n",
      "\n",
      "\n",
      "[IDEA-2-3D]: init input prompt = This brown rabbit [The image shows a close-up of a rabbit with a fluffy, light brown coat. The rabbit has large, pointed ears and expressive eyes that are looking directly at the viewer. Its whiskers are prominent, and it appears to be sitting upright with its front paws slightly apart. The background is a solid black, which contrasts with the rabbit's fur and highlights the animal. The image is a realistic photograph with a focus on the rabbit, and there are no visible texts or additional elements in the frame.] uses two front paws to engage in the action of eating this doughnut [The image displays a single doughnut with a glossy pink glaze. The glaze appears to be freshly applied, as indicated by the visible drips on the side of the doughnut. It is sprinkled with a variety of colorful sprinkles that are scattered across the glaze, adding a playful and festive touch to the doughnut's appearance. The doughnut itself has a golden-brown color, suggesting it has been fried, and it has a hole in the center. The background of the image is a solid black, which contrasts with the doughnut and makes it stand out prominently. There are no texts or additional elements in the image. The style of the image is a realistic 3D rendering, with a focus on the doughnut to highlight its details and textures.].\n",
      "\n"
     ]
    }
   ],
   "source": [
    "# parser = argparse.ArgumentParser()\n",
    "# parser.add_argument(\"--IDEApath\", type=str, default='/mnt/chenjh/Idea23D/input/case1')\n",
    "# parser.add_argument(\"--num_img\", type=int, default=1, help=\"number of images to generate per prompt\")\n",
    "# parser.add_argument(\"--num_draft\", type=int, default=3, help=\"number of prompts to search each round\")\n",
    "# parser.add_argument(\"--max_iters\", type=int, default=3, help=\"max number of iter rounds\")\n",
    "# parser.add_argument(\"--outpath\", default='/mnt/chenjh/Idea23D/output/case1')\n",
    "# args = parser.parse_args()\n",
    "import datetime\n",
    "\n",
    "\n",
    "\n",
    "with open(f'{IDEApath}/idea.txt', 'r') as file:\n",
    "    IdeaContent = file.read()\n",
    "\n",
    "if len(IdeaContent.strip()) == 0:\n",
    "    log('Error: empty Idea.txt')\n",
    "    exit()\n",
    "\n",
    " # 初始化记忆模块\n",
    "memory = Memory()\n",
    "\n",
    "# 将idea中的图，使用LMM生成描述，替换成文字\n",
    "# This brown rabbit <IMG>a1.png</IMG> uses two front paws to engage in the action of eating this doughnut <IMG>a111.png</IMG>.\n",
    "prompt_imagecaption = 'Describe the image in detail.'\n",
    "\n",
    "img_tags = re.findall(r'<IMG>(.*?)<\\/IMG>', IdeaContent)\n",
    "obj_tags = re.findall(r'<OBJ>(.*?)<\\/OBJ>', IdeaContent)\n",
    "\n",
    "img_list = []\n",
    "for img_tag in img_tags:\n",
    "    img_path = f'{IDEApath}/{img_tag}'\n",
    "    image = readimage(img_path)\n",
    "    width, height = image.size\n",
    "    # log('image.size', width, height)\n",
    "    img_list.append(image)\n",
    "    log('img_list.append(image)')\n",
    "    caption = lmm.inference(prompt_imagecaption, image)\n",
    "    IdeaContent = IdeaContent.replace(f'<IMG>{img_tag}</IMG>', f'[{caption}]')\n",
    "    # log(img_tag)\n",
    "\n",
    "    # 将idea中的3d模型，使用blender渲染，生成多视角的图，再使用LMM生成描述，替换成文字\n",
    "for obj_tag in obj_tags:\n",
    "    # TODO...\n",
    "    # img_list.append(image) 将obj渲染的图也融合在一张图里\n",
    "    log(obj_tag)\n",
    "\n",
    "# 更新记忆模块中的idea部分，这部分内容是固定值 不会变的\n",
    "log('img_list size = {len(img_list)}')\n",
    "memory.idea_input_imglist = img_list\n",
    "log(f'memory.idea_input_imglist size = {len(memory.idea_input_imglist)}')\n",
    "log(f'memory.idea_input_imglist = {memory.idea_input_imglist}')\n",
    "memory.idea_input_img = concatenate_images_with_number_label(img_list) # 合并后的img\n",
    "memory.idea_input_prompt = IdeaContent # 最原始的user idea input，obj和png未转换\n",
    "\n",
    "log(f'memory.idea_input_img = {memory.idea_input_img}')\n",
    "\n",
    "log(f'memory.idea_input_prompt = {memory.idea_input_prompt}')\n",
    "\n",
    "log(f'init input prompt = {IdeaContent}')"
   ]
  },
  {
   "cell_type": "code",
   "execution_count": 7,
   "metadata": {},
   "outputs": [
    {
     "name": "stdout",
     "output_type": "stream",
     "text": [
      "\n",
      "[IDEA-2-3D]: iter = 0\n",
      "\n",
      "[IDEA-2-3D]: prompt_gen = Optimize text descriptions based on image content and details to better match user input [User Input]This brown rabbit [The image shows a close-up of a rabbit with a fluffy, light brown coat. The rabbit has large, pointed ears and expressive eyes that are looking directly at the viewer. Its whiskers are prominent, and it appears to be sitting upright with its front paws slightly apart. The background is a solid black, which contrasts with the rabbit's fur and highlights the animal. The image is a realistic photograph with a focus on the rabbit, and there are no visible texts or additional elements in the frame.] uses two front paws to engage in the action of eating this doughnut [The image displays a single doughnut with a glossy pink glaze. The glaze appears to be freshly applied, as indicated by the visible drips on the side of the doughnut. It is sprinkled with a variety of colorful sprinkles that are scattered across the glaze, adding a playful and festive touch to the doughnut's appearance. The doughnut itself has a golden-brown color, suggesting it has been fried, and it has a hole in the center. The background of the image is a solid black, which contrasts with the doughnut and makes it stand out prominently. There are no texts or additional elements in the image. The style of the image is a realistic 3D rendering, with a focus on the doughnut to highlight its details and textures.].\n",
      "[/User Input] and images. Answers are 75 words or less.\n"
     ]
    },
    {
     "name": "stderr",
     "output_type": "stream",
     "text": [
      "Token indices sequence length is longer than the specified maximum sequence length for this model (116 > 77). Running this sequence through the model will result in indexing errors\n",
      "The following part of your input was truncated because CLIP can only handle sequences up to 77 tokens: ['black, which contrasts with the doughnut and highlights its details. the style of the image is a realistic 3 d rendering, with a focus on the doughnut to emphasize its textures and colors.']\n",
      "Token indices sequence length is longer than the specified maximum sequence length for this model (116 > 77). Running this sequence through the model will result in indexing errors\n",
      "The following part of your input was truncated because CLIP can only handle sequences up to 77 tokens: ['black, which contrasts with the doughnut and highlights its details. the style of the image is a realistic 3 d rendering, with a focus on the doughnut to emphasize its textures and colors.']\n"
     ]
    },
    {
     "name": "stdout",
     "output_type": "stream",
     "text": [
      "\n",
      "[IDEA-2-3D]: new input prompt = The image features a light brown rabbit with large ears and expressive eyes, sitting upright and looking directly at the viewer. The rabbit's fur is fluffy, and its whiskers are prominent. In the background, there is a single doughnut with a glossy pink glaze and colorful sprinkles. The doughnut has a golden-brown color and a hole in the center. The background is a solid black, which contrasts with the doughnut and highlights its details. The style of the image is a realistic 3D rendering, with a focus on the doughnut to emphasize its textures and colors.\n"
     ]
    },
    {
     "data": {
      "application/vnd.jupyter.widget-view+json": {
       "model_id": "b16a05cf184e46f89ad157e845397d66",
       "version_major": 2,
       "version_minor": 0
      },
      "text/plain": [
       "  0%|          | 0/32 [00:00<?, ?it/s]"
      ]
     },
     "metadata": {},
     "output_type": "display_data"
    },
    {
     "name": "stderr",
     "output_type": "stream",
     "text": [
      "Token indices sequence length is longer than the specified maximum sequence length for this model (116 > 77). Running this sequence through the model will result in indexing errors\n",
      "The following part of your input was truncated because CLIP can only handle sequences up to 77 tokens: ['black, which contrasts with the doughnut and highlights its details. the style of the image is a realistic 3 d rendering, with a focus on the doughnut to emphasize its textures and colors.']\n"
     ]
    },
    {
     "data": {
      "application/vnd.jupyter.widget-view+json": {
       "model_id": "c9809a35b9354bb4aa3c1728f34dd501",
       "version_major": 2,
       "version_minor": 0
      },
      "text/plain": [
       "  0%|          | 0/8 [00:00<?, ?it/s]"
      ]
     },
     "metadata": {},
     "output_type": "display_data"
    },
    {
     "name": "stderr",
     "output_type": "stream",
     "text": [
      "2024-04-10 16:33:40,149 - INFO - Initializing model ...\n"
     ]
    },
    {
     "name": "stdout",
     "output_type": "stream",
     "text": [
      "png_path,= /mnt/chenjh/Idea23D/output/case1-0410-llava-34b/draft/iter-1-0-0/draft.png\n"
     ]
    },
    {
     "name": "stderr",
     "output_type": "stream",
     "text": [
      "2024-04-10 16:33:45,530 - INFO - Initializing model finished in 5381.15ms.\n",
      "2024-04-10 16:33:45,531 - INFO - Processing image ...\n",
      "2024-04-10 16:33:46,426 - INFO - Processing image finished in 895.11ms.\n",
      "2024-04-10 16:33:46,428 - INFO - Running model ...\n",
      "2024-04-10 16:33:46,428 - INFO - Running model ...\n",
      "2024-04-10 16:33:46,726 - INFO - Running model finished in 297.98ms.\n",
      "2024-04-10 16:33:46,727 - INFO - Rendering ...\n",
      "huggingface/tokenizers: The current process just got forked, after parallelism has already been used. Disabling parallelism to avoid deadlocks...\n",
      "To disable this warning, you can either:\n",
      "\t- Avoid using `tokenizers` before the fork if possible\n",
      "\t- Explicitly set the environment variable TOKENIZERS_PARALLELISM=(true | false)\n",
      "2024-04-10 16:33:51,090 - INFO - Rendering finished in 4362.77ms.\n",
      "2024-04-10 16:33:51,091 - INFO - Exporting mesh ...\n",
      "2024-04-10 16:33:52,820 - INFO - Exporting mesh finished in 1729.44ms.\n"
     ]
    },
    {
     "name": "stdout",
     "output_type": "stream",
     "text": [
      "\n",
      "[IDEA-2-3D]: i23d_res = /mnt/chenjh/Idea23D/output/case1-0410-llava-34b/draft/iter-1-0-0/mesh.obj\n",
      "\n",
      "[IDEA-2-3D]: concatenated_image output_path=/mnt/chenjh/Idea23D/output/case1-0410-llava-34b/tmp/concatenated_image-20240410163352875597.png\n",
      "\n",
      "[IDEA-2-3D]: prompt_gen = Optimize text descriptions based on image content and details to better match user input [User Input]This brown rabbit [The image shows a close-up of a rabbit with a fluffy, light brown coat. The rabbit has large, pointed ears and expressive eyes that are looking directly at the viewer. Its whiskers are prominent, and it appears to be sitting upright with its front paws slightly apart. The background is a solid black, which contrasts with the rabbit's fur and highlights the animal. The image is a realistic photograph with a focus on the rabbit, and there are no visible texts or additional elements in the frame.] uses two front paws to engage in the action of eating this doughnut [The image displays a single doughnut with a glossy pink glaze. The glaze appears to be freshly applied, as indicated by the visible drips on the side of the doughnut. It is sprinkled with a variety of colorful sprinkles that are scattered across the glaze, adding a playful and festive touch to the doughnut's appearance. The doughnut itself has a golden-brown color, suggesting it has been fried, and it has a hole in the center. The background of the image is a solid black, which contrasts with the doughnut and makes it stand out prominently. There are no texts or additional elements in the image. The style of the image is a realistic 3D rendering, with a focus on the doughnut to highlight its details and textures.].\n",
      "[/User Input] and images. Answers are 75 words or less.\n"
     ]
    },
    {
     "name": "stderr",
     "output_type": "stream",
     "text": [
      "The following part of your input was truncated because CLIP can only handle sequences up to 77 tokens: ['black, which contrasts with the doughnut and highlights its details. the style of the image is a realistic 3 d rendering, with a focus on the doughnut to emphasize its textures and colors.']\n",
      "The following part of your input was truncated because CLIP can only handle sequences up to 77 tokens: ['black, which contrasts with the doughnut and highlights its details. the style of the image is a realistic 3 d rendering, with a focus on the doughnut to emphasize its textures and colors.']\n"
     ]
    },
    {
     "name": "stdout",
     "output_type": "stream",
     "text": [
      "\n",
      "[IDEA-2-3D]: new input prompt = The image features a light brown rabbit with large ears and expressive eyes, sitting upright and looking directly at the viewer. The rabbit's fur is fluffy, and its whiskers are prominent. In the background, there is a single doughnut with a glossy pink glaze and colorful sprinkles. The doughnut has a golden-brown color and a hole in the center. The background is a solid black, which contrasts with the doughnut and highlights its details. The style of the image is a realistic 3D rendering, with a focus on the doughnut to emphasize its textures and colors.\n"
     ]
    },
    {
     "data": {
      "application/vnd.jupyter.widget-view+json": {
       "model_id": "a0ba69555d234865a4c176523a18ece5",
       "version_major": 2,
       "version_minor": 0
      },
      "text/plain": [
       "  0%|          | 0/32 [00:00<?, ?it/s]"
      ]
     },
     "metadata": {},
     "output_type": "display_data"
    },
    {
     "name": "stderr",
     "output_type": "stream",
     "text": [
      "The following part of your input was truncated because CLIP can only handle sequences up to 77 tokens: ['black, which contrasts with the doughnut and highlights its details. the style of the image is a realistic 3 d rendering, with a focus on the doughnut to emphasize its textures and colors.']\n"
     ]
    },
    {
     "data": {
      "application/vnd.jupyter.widget-view+json": {
       "model_id": "14042a3f7d334e3b86f49983b6d871a0",
       "version_major": 2,
       "version_minor": 0
      },
      "text/plain": [
       "  0%|          | 0/8 [00:00<?, ?it/s]"
      ]
     },
     "metadata": {},
     "output_type": "display_data"
    },
    {
     "name": "stderr",
     "output_type": "stream",
     "text": [
      "2024-04-10 16:36:13,764 - INFO - Initializing model ...\n"
     ]
    },
    {
     "name": "stdout",
     "output_type": "stream",
     "text": [
      "png_path,= /mnt/chenjh/Idea23D/output/case1-0410-llava-34b/draft/iter-1-1-0/draft.png\n"
     ]
    },
    {
     "name": "stderr",
     "output_type": "stream",
     "text": [
      "2024-04-10 16:36:18,817 - INFO - Initializing model finished in 5053.27ms.\n",
      "2024-04-10 16:36:18,818 - INFO - Processing image ...\n",
      "2024-04-10 16:36:19,708 - INFO - Processing image finished in 889.96ms.\n",
      "2024-04-10 16:36:19,709 - INFO - Running model ...\n",
      "2024-04-10 16:36:19,709 - INFO - Running model ...\n",
      "2024-04-10 16:36:19,943 - INFO - Running model finished in 234.04ms.\n",
      "2024-04-10 16:36:19,944 - INFO - Rendering ...\n",
      "huggingface/tokenizers: The current process just got forked, after parallelism has already been used. Disabling parallelism to avoid deadlocks...\n",
      "To disable this warning, you can either:\n",
      "\t- Avoid using `tokenizers` before the fork if possible\n",
      "\t- Explicitly set the environment variable TOKENIZERS_PARALLELISM=(true | false)\n",
      "2024-04-10 16:36:24,282 - INFO - Rendering finished in 4338.27ms.\n",
      "2024-04-10 16:36:24,284 - INFO - Exporting mesh ...\n",
      "2024-04-10 16:36:25,929 - INFO - Exporting mesh finished in 1645.55ms.\n"
     ]
    },
    {
     "name": "stdout",
     "output_type": "stream",
     "text": [
      "\n",
      "[IDEA-2-3D]: i23d_res = /mnt/chenjh/Idea23D/output/case1-0410-llava-34b/draft/iter-1-1-0/mesh.obj\n",
      "\n",
      "[IDEA-2-3D]: concatenated_image output_path=/mnt/chenjh/Idea23D/output/case1-0410-llava-34b/tmp/concatenated_image-20240410163625985253.png\n",
      "\n",
      "[IDEA-2-3D]: prompt_gen = Optimize text descriptions based on image content and details to better match user input [User Input]This brown rabbit [The image shows a close-up of a rabbit with a fluffy, light brown coat. The rabbit has large, pointed ears and expressive eyes that are looking directly at the viewer. Its whiskers are prominent, and it appears to be sitting upright with its front paws slightly apart. The background is a solid black, which contrasts with the rabbit's fur and highlights the animal. The image is a realistic photograph with a focus on the rabbit, and there are no visible texts or additional elements in the frame.] uses two front paws to engage in the action of eating this doughnut [The image displays a single doughnut with a glossy pink glaze. The glaze appears to be freshly applied, as indicated by the visible drips on the side of the doughnut. It is sprinkled with a variety of colorful sprinkles that are scattered across the glaze, adding a playful and festive touch to the doughnut's appearance. The doughnut itself has a golden-brown color, suggesting it has been fried, and it has a hole in the center. The background of the image is a solid black, which contrasts with the doughnut and makes it stand out prominently. There are no texts or additional elements in the image. The style of the image is a realistic 3D rendering, with a focus on the doughnut to highlight its details and textures.].\n",
      "[/User Input] and images. Answers are 75 words or less.\n"
     ]
    },
    {
     "name": "stderr",
     "output_type": "stream",
     "text": [
      "The following part of your input was truncated because CLIP can only handle sequences up to 77 tokens: ['black, which contrasts with the doughnut and highlights its details. the style of the image is a realistic 3 d rendering, with a focus on the doughnut to emphasize its textures and colors.']\n",
      "The following part of your input was truncated because CLIP can only handle sequences up to 77 tokens: ['black, which contrasts with the doughnut and highlights its details. the style of the image is a realistic 3 d rendering, with a focus on the doughnut to emphasize its textures and colors.']\n"
     ]
    },
    {
     "name": "stdout",
     "output_type": "stream",
     "text": [
      "\n",
      "[IDEA-2-3D]: new input prompt = The image features a light brown rabbit with large ears and expressive eyes, sitting upright and looking directly at the viewer. The rabbit's fur is fluffy, and its whiskers are prominent. In the background, there is a single doughnut with a glossy pink glaze and colorful sprinkles. The doughnut has a golden-brown color and a hole in the center. The background is a solid black, which contrasts with the doughnut and highlights its details. The style of the image is a realistic 3D rendering, with a focus on the doughnut to emphasize its textures and colors.\n"
     ]
    },
    {
     "data": {
      "application/vnd.jupyter.widget-view+json": {
       "model_id": "95d71cf0e7db4ecb9eefcd27813bdec6",
       "version_major": 2,
       "version_minor": 0
      },
      "text/plain": [
       "  0%|          | 0/32 [00:00<?, ?it/s]"
      ]
     },
     "metadata": {},
     "output_type": "display_data"
    },
    {
     "name": "stderr",
     "output_type": "stream",
     "text": [
      "The following part of your input was truncated because CLIP can only handle sequences up to 77 tokens: ['black, which contrasts with the doughnut and highlights its details. the style of the image is a realistic 3 d rendering, with a focus on the doughnut to emphasize its textures and colors.']\n"
     ]
    },
    {
     "data": {
      "application/vnd.jupyter.widget-view+json": {
       "model_id": "d333fe7555a241508006000e9d9f903e",
       "version_major": 2,
       "version_minor": 0
      },
      "text/plain": [
       "  0%|          | 0/8 [00:00<?, ?it/s]"
      ]
     },
     "metadata": {},
     "output_type": "display_data"
    },
    {
     "name": "stderr",
     "output_type": "stream",
     "text": [
      "2024-04-10 16:38:46,916 - INFO - Initializing model ...\n"
     ]
    },
    {
     "name": "stdout",
     "output_type": "stream",
     "text": [
      "png_path,= /mnt/chenjh/Idea23D/output/case1-0410-llava-34b/draft/iter-1-2-0/draft.png\n"
     ]
    },
    {
     "name": "stderr",
     "output_type": "stream",
     "text": [
      "2024-04-10 16:38:54,832 - INFO - Initializing model finished in 7916.07ms.\n",
      "2024-04-10 16:38:54,833 - INFO - Processing image ...\n",
      "2024-04-10 16:38:55,935 - INFO - Processing image finished in 1101.69ms.\n",
      "2024-04-10 16:38:55,936 - INFO - Running model ...\n",
      "2024-04-10 16:38:55,936 - INFO - Running model ...\n",
      "2024-04-10 16:38:56,174 - INFO - Running model finished in 237.07ms.\n",
      "2024-04-10 16:38:56,175 - INFO - Rendering ...\n",
      "huggingface/tokenizers: The current process just got forked, after parallelism has already been used. Disabling parallelism to avoid deadlocks...\n",
      "To disable this warning, you can either:\n",
      "\t- Avoid using `tokenizers` before the fork if possible\n",
      "\t- Explicitly set the environment variable TOKENIZERS_PARALLELISM=(true | false)\n",
      "2024-04-10 16:39:00,541 - INFO - Rendering finished in 4366.04ms.\n",
      "2024-04-10 16:39:00,543 - INFO - Exporting mesh ...\n",
      "2024-04-10 16:39:02,285 - INFO - Exporting mesh finished in 1742.27ms.\n"
     ]
    },
    {
     "name": "stdout",
     "output_type": "stream",
     "text": [
      "\n",
      "[IDEA-2-3D]: i23d_res = /mnt/chenjh/Idea23D/output/case1-0410-llava-34b/draft/iter-1-2-0/mesh.obj\n",
      "\n",
      "[IDEA-2-3D]: concatenated_image output_path=/mnt/chenjh/Idea23D/output/case1-0410-llava-34b/tmp/concatenated_image-20240410163902344048.png\n",
      "\n",
      "[IDEA-2-3D]: concatenated_image output_path=/mnt/chenjh/Idea23D/output/case1-0410-llava-34b/tmp/concatenated_image-20240410163902409905.png\n",
      "\n",
      "[IDEA-2-3D]: prompt_select = Each row of these images shows 6 views of a 3D model. Which row of images best meets the user input? [User Input]This brown rabbit [The image shows a close-up of a rabbit with a fluffy, light brown coat. The rabbit has large, pointed ears and expressive eyes that are looking directly at the viewer. Its whiskers are prominent, and it appears to be sitting upright with its front paws slightly apart. The background is a solid black, which contrasts with the rabbit's fur and highlights the animal. The image is a realistic photograph with a focus on the rabbit, and there are no visible texts or additional elements in the frame.] uses two front paws to engage in the action of eating this doughnut [The image displays a single doughnut with a glossy pink glaze. The glaze appears to be freshly applied, as indicated by the visible drips on the side of the doughnut. It is sprinkled with a variety of colorful sprinkles that are scattered across the glaze, adding a playful and festive touch to the doughnut's appearance. The doughnut itself has a golden-brown color, suggesting it has been fried, and it has a hole in the center. The background of the image is a solid black, which contrasts with the doughnut and makes it stand out prominently. There are no texts or additional elements in the image. The style of the image is a realistic 3D rendering, with a focus on the doughnut to highlight its details and textures.].\n",
      "[/User Input]. Only return a number in the list [0, 1, 2], the number of rows. Such as, \"1\" or \"0\".\n",
      "\n",
      "[IDEA-2-3D]: best_row answer = 1\n",
      "\n",
      "[IDEA-2-3D]: best_row = 1\n",
      "\n",
      "[IDEA-2-3D]: k=1, j=0\n",
      "\n",
      "[IDEA-2-3D]: memory.best_prompt = The image features a light brown rabbit with large ears and expressive eyes, sitting upright and looking directly at the viewer. The rabbit's fur is fluffy, and its whiskers are prominent. In the background, there is a single doughnut with a glossy pink glaze and colorful sprinkles. The doughnut has a golden-brown color and a hole in the center. The background is a solid black, which contrasts with the doughnut and highlights its details. The style of the image is a realistic 3D rendering, with a focus on the doughnut to emphasize its textures and colors.\n",
      "\n",
      "[IDEA-2-3D]: memory.best_img = <PIL.Image.Image image mode=RGB size=1536x256 at 0x7F3EFDC3F850>\n",
      "\n",
      "[IDEA-2-3D]: memory.best_3d_path = /mnt/chenjh/Idea23D/output/case1-0410-llava-34b/draft/iter-1-2-0/mesh.obj\n",
      "\n",
      "[IDEA-2-3D]: prompt_feedback = Does the diagram satisfy the user input? [User Input]This brown rabbit [The image shows a close-up of a rabbit with a fluffy, light brown coat. The rabbit has large, pointed ears and expressive eyes that are looking directly at the viewer. Its whiskers are prominent, and it appears to be sitting upright with its front paws slightly apart. The background is a solid black, which contrasts with the rabbit's fur and highlights the animal. The image is a realistic photograph with a focus on the rabbit, and there are no visible texts or additional elements in the frame.] uses two front paws to engage in the action of eating this doughnut [The image displays a single doughnut with a glossy pink glaze. The glaze appears to be freshly applied, as indicated by the visible drips on the side of the doughnut. It is sprinkled with a variety of colorful sprinkles that are scattered across the glaze, adding a playful and festive touch to the doughnut's appearance. The doughnut itself has a golden-brown color, suggesting it has been fried, and it has a hole in the center. The background of the image is a solid black, which contrasts with the doughnut and makes it stand out prominently. There are no texts or additional elements in the image. The style of the image is a realistic 3D rendering, with a focus on the doughnut to highlight its details and textures.].\n",
      "[/User Input]. Returns \"no revision\" if it matches the User Input. Give the correct prompt if it does not.\n",
      "\n",
      "[IDEA-2-3D]: feedback answer = The image you provided does not match the user input. The user input describes a brown rabbit eating a doughnut, but the image you've shown is of a single doughnut without any rabbit present. If you need an image of a brown rabbit eating a doughnut, please provide a revised prompt that includes both the rabbit and the doughnut.\n",
      "\n",
      "[IDEA-2-3D]: iter = 1\n",
      "\n",
      "[IDEA-2-3D]: prompt_rev = Optimize prompt [Prompt]The image features a light brown rabbit with large ears and expressive eyes, sitting upright and looking directly at the viewer. The rabbit's fur is fluffy, and its whiskers are prominent. In the background, there is a single doughnut with a glossy pink glaze and colorful sprinkles. The doughnut has a golden-brown color and a hole in the center. The background is a solid black, which contrasts with the doughnut and highlights its details. The style of the image is a realistic 3D rendering, with a focus on the doughnut to emphasize its textures and colors.[/Prompt] based on image content and details to better match user input [User Input]This brown rabbit [The image shows a close-up of a rabbit with a fluffy, light brown coat. The rabbit has large, pointed ears and expressive eyes that are looking directly at the viewer. Its whiskers are prominent, and it appears to be sitting upright with its front paws slightly apart. The background is a solid black, which contrasts with the rabbit's fur and highlights the animal. The image is a realistic photograph with a focus on the rabbit, and there are no visible texts or additional elements in the frame.] uses two front paws to engage in the action of eating this doughnut [The image displays a single doughnut with a glossy pink glaze. The glaze appears to be freshly applied, as indicated by the visible drips on the side of the doughnut. It is sprinkled with a variety of colorful sprinkles that are scattered across the glaze, adding a playful and festive touch to the doughnut's appearance. The doughnut itself has a golden-brown color, suggesting it has been fried, and it has a hole in the center. The background of the image is a solid black, which contrasts with the doughnut and makes it stand out prominently. There are no texts or additional elements in the image. The style of the image is a realistic 3D rendering, with a focus on the doughnut to highlight its details and textures.].\n",
      "[/User Input] and images. The first line of the image is the user input. Here's the revision [feedback]The image you provided does not match the user input. The user input describes a brown rabbit eating a doughnut, but the image you've shown is of a single doughnut without any rabbit present. If you need an image of a brown rabbit eating a doughnut, please provide a revised prompt that includes both the rabbit and the doughnut.[/feedback]. Answers are 75 words or less.\n",
      "\n",
      "[IDEA-2-3D]: imagetmp=<PIL.Image.Image image mode=RGB size=512x256 at 0x7F3C80198AC0>\n",
      "\n",
      "[IDEA-2-3D]: new input prompt = The image you provided does not match the user input. The user input describes a brown rabbit eating a doughnut, but the image you've shown is of a single doughnut without any rabbit present. If you need an image of a brown rabbit eating a doughnut, please provide a revised prompt that includes both the rabbit and the doughnut.\n"
     ]
    },
    {
     "data": {
      "application/vnd.jupyter.widget-view+json": {
       "model_id": "28c9b1b8e41d44209840110fc7901287",
       "version_major": 2,
       "version_minor": 0
      },
      "text/plain": [
       "  0%|          | 0/32 [00:00<?, ?it/s]"
      ]
     },
     "metadata": {},
     "output_type": "display_data"
    },
    {
     "data": {
      "application/vnd.jupyter.widget-view+json": {
       "model_id": "16a5d7feaad147be9f092d5f4a10d188",
       "version_major": 2,
       "version_minor": 0
      },
      "text/plain": [
       "  0%|          | 0/8 [00:00<?, ?it/s]"
      ]
     },
     "metadata": {},
     "output_type": "display_data"
    },
    {
     "name": "stderr",
     "output_type": "stream",
     "text": [
      "2024-04-10 16:41:41,258 - INFO - Initializing model ...\n"
     ]
    },
    {
     "name": "stdout",
     "output_type": "stream",
     "text": [
      "png_path,= /mnt/chenjh/Idea23D/output/case1-0410-llava-34b/draft/iter-2-0-0/draft.png\n"
     ]
    },
    {
     "name": "stderr",
     "output_type": "stream",
     "text": [
      "2024-04-10 16:41:47,575 - INFO - Initializing model finished in 6317.11ms.\n",
      "2024-04-10 16:41:47,576 - INFO - Processing image ...\n",
      "2024-04-10 16:41:48,533 - INFO - Processing image finished in 957.38ms.\n",
      "2024-04-10 16:41:48,534 - INFO - Running model ...\n",
      "2024-04-10 16:41:48,534 - INFO - Running model ...\n",
      "2024-04-10 16:41:48,772 - INFO - Running model finished in 237.28ms.\n",
      "2024-04-10 16:41:48,773 - INFO - Rendering ...\n",
      "huggingface/tokenizers: The current process just got forked, after parallelism has already been used. Disabling parallelism to avoid deadlocks...\n",
      "To disable this warning, you can either:\n",
      "\t- Avoid using `tokenizers` before the fork if possible\n",
      "\t- Explicitly set the environment variable TOKENIZERS_PARALLELISM=(true | false)\n",
      "2024-04-10 16:41:53,077 - INFO - Rendering finished in 4304.55ms.\n",
      "2024-04-10 16:41:53,078 - INFO - Exporting mesh ...\n",
      "2024-04-10 16:41:54,682 - INFO - Exporting mesh finished in 1603.46ms.\n"
     ]
    },
    {
     "name": "stdout",
     "output_type": "stream",
     "text": [
      "\n",
      "[IDEA-2-3D]: i23d_res = /mnt/chenjh/Idea23D/output/case1-0410-llava-34b/draft/iter-2-0-0/mesh.obj\n",
      "\n",
      "[IDEA-2-3D]: concatenated_image output_path=/mnt/chenjh/Idea23D/output/case1-0410-llava-34b/tmp/concatenated_image-20240410164154735805.png\n",
      "\n",
      "[IDEA-2-3D]: prompt_rev = Optimize prompt [Prompt]The image features a light brown rabbit with large ears and expressive eyes, sitting upright and looking directly at the viewer. The rabbit's fur is fluffy, and its whiskers are prominent. In the background, there is a single doughnut with a glossy pink glaze and colorful sprinkles. The doughnut has a golden-brown color and a hole in the center. The background is a solid black, which contrasts with the doughnut and highlights its details. The style of the image is a realistic 3D rendering, with a focus on the doughnut to emphasize its textures and colors.[/Prompt] based on image content and details to better match user input [User Input]This brown rabbit [The image shows a close-up of a rabbit with a fluffy, light brown coat. The rabbit has large, pointed ears and expressive eyes that are looking directly at the viewer. Its whiskers are prominent, and it appears to be sitting upright with its front paws slightly apart. The background is a solid black, which contrasts with the rabbit's fur and highlights the animal. The image is a realistic photograph with a focus on the rabbit, and there are no visible texts or additional elements in the frame.] uses two front paws to engage in the action of eating this doughnut [The image displays a single doughnut with a glossy pink glaze. The glaze appears to be freshly applied, as indicated by the visible drips on the side of the doughnut. It is sprinkled with a variety of colorful sprinkles that are scattered across the glaze, adding a playful and festive touch to the doughnut's appearance. The doughnut itself has a golden-brown color, suggesting it has been fried, and it has a hole in the center. The background of the image is a solid black, which contrasts with the doughnut and makes it stand out prominently. There are no texts or additional elements in the image. The style of the image is a realistic 3D rendering, with a focus on the doughnut to highlight its details and textures.].\n",
      "[/User Input] and images. The first line of the image is the user input. Here's the revision [feedback]The image you provided does not match the user input. The user input describes a brown rabbit eating a doughnut, but the image you've shown is of a single doughnut without any rabbit present. If you need an image of a brown rabbit eating a doughnut, please provide a revised prompt that includes both the rabbit and the doughnut.[/feedback]. Answers are 75 words or less.\n",
      "\n",
      "[IDEA-2-3D]: imagetmp=<PIL.Image.Image image mode=RGB size=512x256 at 0x7F3C80198AC0>\n",
      "\n",
      "[IDEA-2-3D]: new input prompt = The image you provided does not match the user input. The user input describes a brown rabbit eating a doughnut, but the image you've shown is of a single doughnut without any rabbit present. If you need an image of a brown rabbit eating a doughnut, please provide a revised prompt that includes both the rabbit and the doughnut.\n"
     ]
    },
    {
     "data": {
      "application/vnd.jupyter.widget-view+json": {
       "model_id": "cce5253b5e574ac1a9c3962bb1e7285d",
       "version_major": 2,
       "version_minor": 0
      },
      "text/plain": [
       "  0%|          | 0/32 [00:00<?, ?it/s]"
      ]
     },
     "metadata": {},
     "output_type": "display_data"
    },
    {
     "data": {
      "application/vnd.jupyter.widget-view+json": {
       "model_id": "90df9a6b1cf44cf8b09fd0560a7a3b2e",
       "version_major": 2,
       "version_minor": 0
      },
      "text/plain": [
       "  0%|          | 0/8 [00:00<?, ?it/s]"
      ]
     },
     "metadata": {},
     "output_type": "display_data"
    },
    {
     "name": "stderr",
     "output_type": "stream",
     "text": [
      "2024-04-10 16:43:35,130 - INFO - Initializing model ...\n"
     ]
    },
    {
     "name": "stdout",
     "output_type": "stream",
     "text": [
      "png_path,= /mnt/chenjh/Idea23D/output/case1-0410-llava-34b/draft/iter-2-1-0/draft.png\n"
     ]
    },
    {
     "name": "stderr",
     "output_type": "stream",
     "text": [
      "2024-04-10 16:43:39,738 - INFO - Initializing model finished in 4608.08ms.\n",
      "2024-04-10 16:43:39,739 - INFO - Processing image ...\n",
      "2024-04-10 16:43:40,633 - INFO - Processing image finished in 894.67ms.\n",
      "2024-04-10 16:43:40,634 - INFO - Running model ...\n",
      "2024-04-10 16:43:40,634 - INFO - Running model ...\n",
      "2024-04-10 16:43:40,870 - INFO - Running model finished in 235.77ms.\n",
      "2024-04-10 16:43:40,871 - INFO - Rendering ...\n",
      "huggingface/tokenizers: The current process just got forked, after parallelism has already been used. Disabling parallelism to avoid deadlocks...\n",
      "To disable this warning, you can either:\n",
      "\t- Avoid using `tokenizers` before the fork if possible\n",
      "\t- Explicitly set the environment variable TOKENIZERS_PARALLELISM=(true | false)\n",
      "2024-04-10 16:43:45,059 - INFO - Rendering finished in 4187.86ms.\n",
      "2024-04-10 16:43:45,060 - INFO - Exporting mesh ...\n",
      "2024-04-10 16:43:46,532 - INFO - Exporting mesh finished in 1471.74ms.\n"
     ]
    },
    {
     "name": "stdout",
     "output_type": "stream",
     "text": [
      "\n",
      "[IDEA-2-3D]: i23d_res = /mnt/chenjh/Idea23D/output/case1-0410-llava-34b/draft/iter-2-1-0/mesh.obj\n",
      "\n",
      "[IDEA-2-3D]: concatenated_image output_path=/mnt/chenjh/Idea23D/output/case1-0410-llava-34b/tmp/concatenated_image-20240410164346587163.png\n",
      "\n",
      "[IDEA-2-3D]: prompt_rev = Optimize prompt [Prompt]The image features a light brown rabbit with large ears and expressive eyes, sitting upright and looking directly at the viewer. The rabbit's fur is fluffy, and its whiskers are prominent. In the background, there is a single doughnut with a glossy pink glaze and colorful sprinkles. The doughnut has a golden-brown color and a hole in the center. The background is a solid black, which contrasts with the doughnut and highlights its details. The style of the image is a realistic 3D rendering, with a focus on the doughnut to emphasize its textures and colors.[/Prompt] based on image content and details to better match user input [User Input]This brown rabbit [The image shows a close-up of a rabbit with a fluffy, light brown coat. The rabbit has large, pointed ears and expressive eyes that are looking directly at the viewer. Its whiskers are prominent, and it appears to be sitting upright with its front paws slightly apart. The background is a solid black, which contrasts with the rabbit's fur and highlights the animal. The image is a realistic photograph with a focus on the rabbit, and there are no visible texts or additional elements in the frame.] uses two front paws to engage in the action of eating this doughnut [The image displays a single doughnut with a glossy pink glaze. The glaze appears to be freshly applied, as indicated by the visible drips on the side of the doughnut. It is sprinkled with a variety of colorful sprinkles that are scattered across the glaze, adding a playful and festive touch to the doughnut's appearance. The doughnut itself has a golden-brown color, suggesting it has been fried, and it has a hole in the center. The background of the image is a solid black, which contrasts with the doughnut and makes it stand out prominently. There are no texts or additional elements in the image. The style of the image is a realistic 3D rendering, with a focus on the doughnut to highlight its details and textures.].\n",
      "[/User Input] and images. The first line of the image is the user input. Here's the revision [feedback]The image you provided does not match the user input. The user input describes a brown rabbit eating a doughnut, but the image you've shown is of a single doughnut without any rabbit present. If you need an image of a brown rabbit eating a doughnut, please provide a revised prompt that includes both the rabbit and the doughnut.[/feedback]. Answers are 75 words or less.\n",
      "\n",
      "[IDEA-2-3D]: imagetmp=<PIL.Image.Image image mode=RGB size=512x256 at 0x7F3C80198AC0>\n",
      "\n",
      "[IDEA-2-3D]: new input prompt = The image you provided does not match the user input. The user input describes a brown rabbit eating a doughnut, but the image you've shown is of a single doughnut without any rabbit present. If you need an image of a brown rabbit eating a doughnut, please provide a revised prompt that includes both the rabbit and the doughnut.\n"
     ]
    },
    {
     "data": {
      "application/vnd.jupyter.widget-view+json": {
       "model_id": "408a5fe664ec499fb827d38f0fcc1796",
       "version_major": 2,
       "version_minor": 0
      },
      "text/plain": [
       "  0%|          | 0/32 [00:00<?, ?it/s]"
      ]
     },
     "metadata": {},
     "output_type": "display_data"
    },
    {
     "data": {
      "application/vnd.jupyter.widget-view+json": {
       "model_id": "2f680508be714ea8ac304a79527e3385",
       "version_major": 2,
       "version_minor": 0
      },
      "text/plain": [
       "  0%|          | 0/8 [00:00<?, ?it/s]"
      ]
     },
     "metadata": {},
     "output_type": "display_data"
    },
    {
     "name": "stderr",
     "output_type": "stream",
     "text": [
      "2024-04-10 16:45:26,910 - INFO - Initializing model ...\n"
     ]
    },
    {
     "name": "stdout",
     "output_type": "stream",
     "text": [
      "png_path,= /mnt/chenjh/Idea23D/output/case1-0410-llava-34b/draft/iter-2-2-0/draft.png\n"
     ]
    },
    {
     "name": "stderr",
     "output_type": "stream",
     "text": [
      "2024-04-10 16:45:31,651 - INFO - Initializing model finished in 4741.28ms.\n",
      "2024-04-10 16:45:31,652 - INFO - Processing image ...\n",
      "2024-04-10 16:45:32,598 - INFO - Processing image finished in 946.42ms.\n",
      "2024-04-10 16:45:32,599 - INFO - Running model ...\n",
      "2024-04-10 16:45:32,600 - INFO - Running model ...\n",
      "2024-04-10 16:45:32,836 - INFO - Running model finished in 236.11ms.\n",
      "2024-04-10 16:45:32,837 - INFO - Rendering ...\n",
      "huggingface/tokenizers: The current process just got forked, after parallelism has already been used. Disabling parallelism to avoid deadlocks...\n",
      "To disable this warning, you can either:\n",
      "\t- Avoid using `tokenizers` before the fork if possible\n",
      "\t- Explicitly set the environment variable TOKENIZERS_PARALLELISM=(true | false)\n",
      "2024-04-10 16:45:37,098 - INFO - Rendering finished in 4260.96ms.\n",
      "2024-04-10 16:45:37,099 - INFO - Exporting mesh ...\n",
      "2024-04-10 16:45:38,844 - INFO - Exporting mesh finished in 1745.20ms.\n"
     ]
    },
    {
     "name": "stdout",
     "output_type": "stream",
     "text": [
      "\n",
      "[IDEA-2-3D]: i23d_res = /mnt/chenjh/Idea23D/output/case1-0410-llava-34b/draft/iter-2-2-0/mesh.obj\n",
      "\n",
      "[IDEA-2-3D]: concatenated_image output_path=/mnt/chenjh/Idea23D/output/case1-0410-llava-34b/tmp/concatenated_image-20240410164538898872.png\n",
      "\n",
      "[IDEA-2-3D]: concatenated_image output_path=/mnt/chenjh/Idea23D/output/case1-0410-llava-34b/tmp/concatenated_image-20240410164538960624.png\n",
      "\n",
      "[IDEA-2-3D]: prompt_select = Each row of these images shows 6 views of a 3D model. Which row of images best meets the user input? [User Input]This brown rabbit [The image shows a close-up of a rabbit with a fluffy, light brown coat. The rabbit has large, pointed ears and expressive eyes that are looking directly at the viewer. Its whiskers are prominent, and it appears to be sitting upright with its front paws slightly apart. The background is a solid black, which contrasts with the rabbit's fur and highlights the animal. The image is a realistic photograph with a focus on the rabbit, and there are no visible texts or additional elements in the frame.] uses two front paws to engage in the action of eating this doughnut [The image displays a single doughnut with a glossy pink glaze. The glaze appears to be freshly applied, as indicated by the visible drips on the side of the doughnut. It is sprinkled with a variety of colorful sprinkles that are scattered across the glaze, adding a playful and festive touch to the doughnut's appearance. The doughnut itself has a golden-brown color, suggesting it has been fried, and it has a hole in the center. The background of the image is a solid black, which contrasts with the doughnut and makes it stand out prominently. There are no texts or additional elements in the image. The style of the image is a realistic 3D rendering, with a focus on the doughnut to highlight its details and textures.].\n",
      "[/User Input]. Only return a number in the list [0, 1, 2], the number of rows. Such as, \"1\" or \"0\".\n",
      "\n",
      "[IDEA-2-3D]: best_row answer = 1\n",
      "\n",
      "[IDEA-2-3D]: best_row = 1\n",
      "\n",
      "[IDEA-2-3D]: k=1, j=0\n",
      "\n",
      "[IDEA-2-3D]: memory.best_prompt = The image features a light brown rabbit with large ears and expressive eyes, sitting upright and looking directly at the viewer. The rabbit's fur is fluffy, and its whiskers are prominent. In the background, there is a single doughnut with a glossy pink glaze and colorful sprinkles. The doughnut has a golden-brown color and a hole in the center. The background is a solid black, which contrasts with the doughnut and highlights its details. The style of the image is a realistic 3D rendering, with a focus on the doughnut to emphasize its textures and colors.\n",
      "\n",
      "[IDEA-2-3D]: memory.best_img = <PIL.Image.Image image mode=RGB size=1536x256 at 0x7F3EFDC3F850>\n",
      "\n",
      "[IDEA-2-3D]: memory.best_3d_path = /mnt/chenjh/Idea23D/output/case1-0410-llava-34b/draft/iter-1-2-0/mesh.obj\n",
      "\n",
      "[IDEA-2-3D]: prompt_feedback = Does the diagram satisfy the user input? [User Input]This brown rabbit [The image shows a close-up of a rabbit with a fluffy, light brown coat. The rabbit has large, pointed ears and expressive eyes that are looking directly at the viewer. Its whiskers are prominent, and it appears to be sitting upright with its front paws slightly apart. The background is a solid black, which contrasts with the rabbit's fur and highlights the animal. The image is a realistic photograph with a focus on the rabbit, and there are no visible texts or additional elements in the frame.] uses two front paws to engage in the action of eating this doughnut [The image displays a single doughnut with a glossy pink glaze. The glaze appears to be freshly applied, as indicated by the visible drips on the side of the doughnut. It is sprinkled with a variety of colorful sprinkles that are scattered across the glaze, adding a playful and festive touch to the doughnut's appearance. The doughnut itself has a golden-brown color, suggesting it has been fried, and it has a hole in the center. The background of the image is a solid black, which contrasts with the doughnut and makes it stand out prominently. There are no texts or additional elements in the image. The style of the image is a realistic 3D rendering, with a focus on the doughnut to highlight its details and textures.].\n",
      "[/User Input]. Returns \"no revision\" if it matches the User Input. Give the correct prompt if it does not.\n",
      "\n",
      "[IDEA-2-3D]: feedback answer = The image you provided does not match the user input. The user input describes a brown rabbit eating a doughnut, but the image you've shown is of a single doughnut without any rabbit present. If you need an image of a brown rabbit eating a doughnut, please provide a revised prompt that includes both the rabbit and the doughnut.\n",
      "\n",
      "[IDEA-2-3D]: iter = 2\n",
      "\n",
      "[IDEA-2-3D]: prompt_rev = Optimize prompt [Prompt]The image features a light brown rabbit with large ears and expressive eyes, sitting upright and looking directly at the viewer. The rabbit's fur is fluffy, and its whiskers are prominent. In the background, there is a single doughnut with a glossy pink glaze and colorful sprinkles. The doughnut has a golden-brown color and a hole in the center. The background is a solid black, which contrasts with the doughnut and highlights its details. The style of the image is a realistic 3D rendering, with a focus on the doughnut to emphasize its textures and colors.[/Prompt] based on image content and details to better match user input [User Input]This brown rabbit [The image shows a close-up of a rabbit with a fluffy, light brown coat. The rabbit has large, pointed ears and expressive eyes that are looking directly at the viewer. Its whiskers are prominent, and it appears to be sitting upright with its front paws slightly apart. The background is a solid black, which contrasts with the rabbit's fur and highlights the animal. The image is a realistic photograph with a focus on the rabbit, and there are no visible texts or additional elements in the frame.] uses two front paws to engage in the action of eating this doughnut [The image displays a single doughnut with a glossy pink glaze. The glaze appears to be freshly applied, as indicated by the visible drips on the side of the doughnut. It is sprinkled with a variety of colorful sprinkles that are scattered across the glaze, adding a playful and festive touch to the doughnut's appearance. The doughnut itself has a golden-brown color, suggesting it has been fried, and it has a hole in the center. The background of the image is a solid black, which contrasts with the doughnut and makes it stand out prominently. There are no texts or additional elements in the image. The style of the image is a realistic 3D rendering, with a focus on the doughnut to highlight its details and textures.].\n",
      "[/User Input] and images. The first line of the image is the user input. Here's the revision [feedback]The image you provided does not match the user input. The user input describes a brown rabbit eating a doughnut, but the image you've shown is of a single doughnut without any rabbit present. If you need an image of a brown rabbit eating a doughnut, please provide a revised prompt that includes both the rabbit and the doughnut.[/feedback]. Answers are 75 words or less.\n",
      "\n",
      "[IDEA-2-3D]: imagetmp=<PIL.Image.Image image mode=RGB size=512x256 at 0x7F3C80198AC0>\n",
      "\n",
      "[IDEA-2-3D]: new input prompt = The image you provided does not match the user input. The user input describes a brown rabbit eating a doughnut, but the image you've shown is of a single doughnut without any rabbit present. If you need an image of a brown rabbit eating a doughnut, please provide a revised prompt that includes both the rabbit and the doughnut.\n"
     ]
    },
    {
     "data": {
      "application/vnd.jupyter.widget-view+json": {
       "model_id": "2877f4a263664e558e6bc20069bfc7d8",
       "version_major": 2,
       "version_minor": 0
      },
      "text/plain": [
       "  0%|          | 0/32 [00:00<?, ?it/s]"
      ]
     },
     "metadata": {},
     "output_type": "display_data"
    },
    {
     "data": {
      "application/vnd.jupyter.widget-view+json": {
       "model_id": "266fb20bd91246d796559812a4b1af7e",
       "version_major": 2,
       "version_minor": 0
      },
      "text/plain": [
       "  0%|          | 0/8 [00:00<?, ?it/s]"
      ]
     },
     "metadata": {},
     "output_type": "display_data"
    },
    {
     "name": "stderr",
     "output_type": "stream",
     "text": [
      "2024-04-10 16:48:18,551 - INFO - Initializing model ...\n"
     ]
    },
    {
     "name": "stdout",
     "output_type": "stream",
     "text": [
      "png_path,= /mnt/chenjh/Idea23D/output/case1-0410-llava-34b/draft/iter-3-0-0/draft.png\n"
     ]
    },
    {
     "name": "stderr",
     "output_type": "stream",
     "text": [
      "2024-04-10 16:48:24,399 - INFO - Initializing model finished in 5847.99ms.\n",
      "2024-04-10 16:48:24,400 - INFO - Processing image ...\n",
      "2024-04-10 16:48:25,343 - INFO - Processing image finished in 942.80ms.\n",
      "2024-04-10 16:48:25,344 - INFO - Running model ...\n",
      "2024-04-10 16:48:25,344 - INFO - Running model ...\n",
      "2024-04-10 16:48:25,577 - INFO - Running model finished in 232.51ms.\n",
      "2024-04-10 16:48:25,577 - INFO - Rendering ...\n",
      "huggingface/tokenizers: The current process just got forked, after parallelism has already been used. Disabling parallelism to avoid deadlocks...\n",
      "To disable this warning, you can either:\n",
      "\t- Avoid using `tokenizers` before the fork if possible\n",
      "\t- Explicitly set the environment variable TOKENIZERS_PARALLELISM=(true | false)\n",
      "2024-04-10 16:48:29,993 - INFO - Rendering finished in 4415.51ms.\n",
      "2024-04-10 16:48:29,994 - INFO - Exporting mesh ...\n",
      "2024-04-10 16:48:31,561 - INFO - Exporting mesh finished in 1566.91ms.\n"
     ]
    },
    {
     "name": "stdout",
     "output_type": "stream",
     "text": [
      "\n",
      "[IDEA-2-3D]: i23d_res = /mnt/chenjh/Idea23D/output/case1-0410-llava-34b/draft/iter-3-0-0/mesh.obj\n",
      "\n",
      "[IDEA-2-3D]: concatenated_image output_path=/mnt/chenjh/Idea23D/output/case1-0410-llava-34b/tmp/concatenated_image-20240410164831610753.png\n",
      "\n",
      "[IDEA-2-3D]: prompt_rev = Optimize prompt [Prompt]The image features a light brown rabbit with large ears and expressive eyes, sitting upright and looking directly at the viewer. The rabbit's fur is fluffy, and its whiskers are prominent. In the background, there is a single doughnut with a glossy pink glaze and colorful sprinkles. The doughnut has a golden-brown color and a hole in the center. The background is a solid black, which contrasts with the doughnut and highlights its details. The style of the image is a realistic 3D rendering, with a focus on the doughnut to emphasize its textures and colors.[/Prompt] based on image content and details to better match user input [User Input]This brown rabbit [The image shows a close-up of a rabbit with a fluffy, light brown coat. The rabbit has large, pointed ears and expressive eyes that are looking directly at the viewer. Its whiskers are prominent, and it appears to be sitting upright with its front paws slightly apart. The background is a solid black, which contrasts with the rabbit's fur and highlights the animal. The image is a realistic photograph with a focus on the rabbit, and there are no visible texts or additional elements in the frame.] uses two front paws to engage in the action of eating this doughnut [The image displays a single doughnut with a glossy pink glaze. The glaze appears to be freshly applied, as indicated by the visible drips on the side of the doughnut. It is sprinkled with a variety of colorful sprinkles that are scattered across the glaze, adding a playful and festive touch to the doughnut's appearance. The doughnut itself has a golden-brown color, suggesting it has been fried, and it has a hole in the center. The background of the image is a solid black, which contrasts with the doughnut and makes it stand out prominently. There are no texts or additional elements in the image. The style of the image is a realistic 3D rendering, with a focus on the doughnut to highlight its details and textures.].\n",
      "[/User Input] and images. The first line of the image is the user input. Here's the revision [feedback]The image you provided does not match the user input. The user input describes a brown rabbit eating a doughnut, but the image you've shown is of a single doughnut without any rabbit present. If you need an image of a brown rabbit eating a doughnut, please provide a revised prompt that includes both the rabbit and the doughnut.[/feedback]. Answers are 75 words or less.\n",
      "\n",
      "[IDEA-2-3D]: imagetmp=<PIL.Image.Image image mode=RGB size=512x256 at 0x7F3C80198AC0>\n",
      "\n",
      "[IDEA-2-3D]: new input prompt = The image you provided does not match the user input. The user input describes a brown rabbit eating a doughnut, but the image you've shown is of a single doughnut without any rabbit present. If you need an image of a brown rabbit eating a doughnut, please provide a revised prompt that includes both the rabbit and the doughnut.\n"
     ]
    },
    {
     "data": {
      "application/vnd.jupyter.widget-view+json": {
       "model_id": "3270263214e44a69883f7c5ddde0bc46",
       "version_major": 2,
       "version_minor": 0
      },
      "text/plain": [
       "  0%|          | 0/32 [00:00<?, ?it/s]"
      ]
     },
     "metadata": {},
     "output_type": "display_data"
    },
    {
     "data": {
      "application/vnd.jupyter.widget-view+json": {
       "model_id": "649d8826fd4e46c18c0eb8cad6401497",
       "version_major": 2,
       "version_minor": 0
      },
      "text/plain": [
       "  0%|          | 0/8 [00:00<?, ?it/s]"
      ]
     },
     "metadata": {},
     "output_type": "display_data"
    },
    {
     "name": "stderr",
     "output_type": "stream",
     "text": [
      "2024-04-10 16:50:11,952 - INFO - Initializing model ...\n"
     ]
    },
    {
     "name": "stdout",
     "output_type": "stream",
     "text": [
      "png_path,= /mnt/chenjh/Idea23D/output/case1-0410-llava-34b/draft/iter-3-1-0/draft.png\n"
     ]
    },
    {
     "name": "stderr",
     "output_type": "stream",
     "text": [
      "2024-04-10 16:50:19,306 - INFO - Initializing model finished in 7354.67ms.\n",
      "2024-04-10 16:50:19,307 - INFO - Processing image ...\n",
      "2024-04-10 16:50:20,266 - INFO - Processing image finished in 958.63ms.\n",
      "2024-04-10 16:50:20,267 - INFO - Running model ...\n",
      "2024-04-10 16:50:20,267 - INFO - Running model ...\n",
      "2024-04-10 16:50:20,527 - INFO - Running model finished in 259.06ms.\n",
      "2024-04-10 16:50:20,527 - INFO - Rendering ...\n",
      "huggingface/tokenizers: The current process just got forked, after parallelism has already been used. Disabling parallelism to avoid deadlocks...\n",
      "To disable this warning, you can either:\n",
      "\t- Avoid using `tokenizers` before the fork if possible\n",
      "\t- Explicitly set the environment variable TOKENIZERS_PARALLELISM=(true | false)\n",
      "2024-04-10 16:50:24,746 - INFO - Rendering finished in 4218.54ms.\n",
      "2024-04-10 16:50:24,747 - INFO - Exporting mesh ...\n",
      "2024-04-10 16:50:26,716 - INFO - Exporting mesh finished in 1968.79ms.\n"
     ]
    },
    {
     "name": "stdout",
     "output_type": "stream",
     "text": [
      "\n",
      "[IDEA-2-3D]: i23d_res = /mnt/chenjh/Idea23D/output/case1-0410-llava-34b/draft/iter-3-1-0/mesh.obj\n",
      "\n",
      "[IDEA-2-3D]: concatenated_image output_path=/mnt/chenjh/Idea23D/output/case1-0410-llava-34b/tmp/concatenated_image-20240410165026783502.png\n",
      "\n",
      "[IDEA-2-3D]: prompt_rev = Optimize prompt [Prompt]The image features a light brown rabbit with large ears and expressive eyes, sitting upright and looking directly at the viewer. The rabbit's fur is fluffy, and its whiskers are prominent. In the background, there is a single doughnut with a glossy pink glaze and colorful sprinkles. The doughnut has a golden-brown color and a hole in the center. The background is a solid black, which contrasts with the doughnut and highlights its details. The style of the image is a realistic 3D rendering, with a focus on the doughnut to emphasize its textures and colors.[/Prompt] based on image content and details to better match user input [User Input]This brown rabbit [The image shows a close-up of a rabbit with a fluffy, light brown coat. The rabbit has large, pointed ears and expressive eyes that are looking directly at the viewer. Its whiskers are prominent, and it appears to be sitting upright with its front paws slightly apart. The background is a solid black, which contrasts with the rabbit's fur and highlights the animal. The image is a realistic photograph with a focus on the rabbit, and there are no visible texts or additional elements in the frame.] uses two front paws to engage in the action of eating this doughnut [The image displays a single doughnut with a glossy pink glaze. The glaze appears to be freshly applied, as indicated by the visible drips on the side of the doughnut. It is sprinkled with a variety of colorful sprinkles that are scattered across the glaze, adding a playful and festive touch to the doughnut's appearance. The doughnut itself has a golden-brown color, suggesting it has been fried, and it has a hole in the center. The background of the image is a solid black, which contrasts with the doughnut and makes it stand out prominently. There are no texts or additional elements in the image. The style of the image is a realistic 3D rendering, with a focus on the doughnut to highlight its details and textures.].\n",
      "[/User Input] and images. The first line of the image is the user input. Here's the revision [feedback]The image you provided does not match the user input. The user input describes a brown rabbit eating a doughnut, but the image you've shown is of a single doughnut without any rabbit present. If you need an image of a brown rabbit eating a doughnut, please provide a revised prompt that includes both the rabbit and the doughnut.[/feedback]. Answers are 75 words or less.\n",
      "\n",
      "[IDEA-2-3D]: imagetmp=<PIL.Image.Image image mode=RGB size=512x256 at 0x7F3C80198AC0>\n",
      "\n",
      "[IDEA-2-3D]: new input prompt = The image you provided does not match the user input. The user input describes a brown rabbit eating a doughnut, but the image you've shown is of a single doughnut without any rabbit present. If you need an image of a brown rabbit eating a doughnut, please provide a revised prompt that includes both the rabbit and the doughnut.\n"
     ]
    },
    {
     "data": {
      "application/vnd.jupyter.widget-view+json": {
       "model_id": "c84912fae5184f609458138c5cb927a0",
       "version_major": 2,
       "version_minor": 0
      },
      "text/plain": [
       "  0%|          | 0/32 [00:00<?, ?it/s]"
      ]
     },
     "metadata": {},
     "output_type": "display_data"
    },
    {
     "data": {
      "application/vnd.jupyter.widget-view+json": {
       "model_id": "7c99744d8456413b8e654d61e6fad94f",
       "version_major": 2,
       "version_minor": 0
      },
      "text/plain": [
       "  0%|          | 0/8 [00:00<?, ?it/s]"
      ]
     },
     "metadata": {},
     "output_type": "display_data"
    },
    {
     "name": "stderr",
     "output_type": "stream",
     "text": [
      "2024-04-10 16:52:07,117 - INFO - Initializing model ...\n"
     ]
    },
    {
     "name": "stdout",
     "output_type": "stream",
     "text": [
      "png_path,= /mnt/chenjh/Idea23D/output/case1-0410-llava-34b/draft/iter-3-2-0/draft.png\n"
     ]
    },
    {
     "name": "stderr",
     "output_type": "stream",
     "text": [
      "2024-04-10 16:52:13,869 - INFO - Initializing model finished in 6751.58ms.\n",
      "2024-04-10 16:52:13,870 - INFO - Processing image ...\n",
      "2024-04-10 16:52:14,816 - INFO - Processing image finished in 945.90ms.\n",
      "2024-04-10 16:52:14,817 - INFO - Running model ...\n",
      "2024-04-10 16:52:14,817 - INFO - Running model ...\n",
      "2024-04-10 16:52:15,054 - INFO - Running model finished in 237.06ms.\n",
      "2024-04-10 16:52:15,055 - INFO - Rendering ...\n",
      "huggingface/tokenizers: The current process just got forked, after parallelism has already been used. Disabling parallelism to avoid deadlocks...\n",
      "To disable this warning, you can either:\n",
      "\t- Avoid using `tokenizers` before the fork if possible\n",
      "\t- Explicitly set the environment variable TOKENIZERS_PARALLELISM=(true | false)\n",
      "2024-04-10 16:52:19,446 - INFO - Rendering finished in 4390.52ms.\n",
      "2024-04-10 16:52:19,447 - INFO - Exporting mesh ...\n",
      "2024-04-10 16:52:21,077 - INFO - Exporting mesh finished in 1629.93ms.\n"
     ]
    },
    {
     "name": "stdout",
     "output_type": "stream",
     "text": [
      "\n",
      "[IDEA-2-3D]: i23d_res = /mnt/chenjh/Idea23D/output/case1-0410-llava-34b/draft/iter-3-2-0/mesh.obj\n",
      "\n",
      "[IDEA-2-3D]: concatenated_image output_path=/mnt/chenjh/Idea23D/output/case1-0410-llava-34b/tmp/concatenated_image-20240410165221139862.png\n",
      "\n",
      "[IDEA-2-3D]: concatenated_image output_path=/mnt/chenjh/Idea23D/output/case1-0410-llava-34b/tmp/concatenated_image-20240410165221201320.png\n",
      "\n",
      "[IDEA-2-3D]: prompt_select = Each row of these images shows 6 views of a 3D model. Which row of images best meets the user input? [User Input]This brown rabbit [The image shows a close-up of a rabbit with a fluffy, light brown coat. The rabbit has large, pointed ears and expressive eyes that are looking directly at the viewer. Its whiskers are prominent, and it appears to be sitting upright with its front paws slightly apart. The background is a solid black, which contrasts with the rabbit's fur and highlights the animal. The image is a realistic photograph with a focus on the rabbit, and there are no visible texts or additional elements in the frame.] uses two front paws to engage in the action of eating this doughnut [The image displays a single doughnut with a glossy pink glaze. The glaze appears to be freshly applied, as indicated by the visible drips on the side of the doughnut. It is sprinkled with a variety of colorful sprinkles that are scattered across the glaze, adding a playful and festive touch to the doughnut's appearance. The doughnut itself has a golden-brown color, suggesting it has been fried, and it has a hole in the center. The background of the image is a solid black, which contrasts with the doughnut and makes it stand out prominently. There are no texts or additional elements in the image. The style of the image is a realistic 3D rendering, with a focus on the doughnut to highlight its details and textures.].\n",
      "[/User Input]. Only return a number in the list [0, 1, 2], the number of rows. Such as, \"1\" or \"0\".\n",
      "\n",
      "[IDEA-2-3D]: best_row answer = 1\n",
      "\n",
      "[IDEA-2-3D]: best_row = 1\n",
      "\n",
      "[IDEA-2-3D]: k=1, j=0\n",
      "\n",
      "[IDEA-2-3D]: memory.best_prompt = The image features a light brown rabbit with large ears and expressive eyes, sitting upright and looking directly at the viewer. The rabbit's fur is fluffy, and its whiskers are prominent. In the background, there is a single doughnut with a glossy pink glaze and colorful sprinkles. The doughnut has a golden-brown color and a hole in the center. The background is a solid black, which contrasts with the doughnut and highlights its details. The style of the image is a realistic 3D rendering, with a focus on the doughnut to emphasize its textures and colors.\n",
      "\n",
      "[IDEA-2-3D]: memory.best_img = <PIL.Image.Image image mode=RGB size=1536x256 at 0x7F3EFDC3F850>\n",
      "\n",
      "[IDEA-2-3D]: memory.best_3d_path = /mnt/chenjh/Idea23D/output/case1-0410-llava-34b/draft/iter-1-2-0/mesh.obj\n",
      "\n",
      "[IDEA-2-3D]: prompt_feedback = Does the diagram satisfy the user input? [User Input]This brown rabbit [The image shows a close-up of a rabbit with a fluffy, light brown coat. The rabbit has large, pointed ears and expressive eyes that are looking directly at the viewer. Its whiskers are prominent, and it appears to be sitting upright with its front paws slightly apart. The background is a solid black, which contrasts with the rabbit's fur and highlights the animal. The image is a realistic photograph with a focus on the rabbit, and there are no visible texts or additional elements in the frame.] uses two front paws to engage in the action of eating this doughnut [The image displays a single doughnut with a glossy pink glaze. The glaze appears to be freshly applied, as indicated by the visible drips on the side of the doughnut. It is sprinkled with a variety of colorful sprinkles that are scattered across the glaze, adding a playful and festive touch to the doughnut's appearance. The doughnut itself has a golden-brown color, suggesting it has been fried, and it has a hole in the center. The background of the image is a solid black, which contrasts with the doughnut and makes it stand out prominently. There are no texts or additional elements in the image. The style of the image is a realistic 3D rendering, with a focus on the doughnut to highlight its details and textures.].\n",
      "[/User Input]. Returns \"no revision\" if it matches the User Input. Give the correct prompt if it does not.\n",
      "\n",
      "[IDEA-2-3D]: feedback answer = The image you provided does not match the user input. The user input describes a brown rabbit eating a doughnut, but the image you've shown is of a single doughnut without any rabbit present. If you need an image of a brown rabbit eating a doughnut, please provide a revised prompt that includes both the rabbit and the doughnut.\n",
      "\n",
      "[IDEA-2-3D]: iter = 3\n",
      "\n",
      "[IDEA-2-3D]: prompt_rev = Optimize prompt [Prompt]The image features a light brown rabbit with large ears and expressive eyes, sitting upright and looking directly at the viewer. The rabbit's fur is fluffy, and its whiskers are prominent. In the background, there is a single doughnut with a glossy pink glaze and colorful sprinkles. The doughnut has a golden-brown color and a hole in the center. The background is a solid black, which contrasts with the doughnut and highlights its details. The style of the image is a realistic 3D rendering, with a focus on the doughnut to emphasize its textures and colors.[/Prompt] based on image content and details to better match user input [User Input]This brown rabbit [The image shows a close-up of a rabbit with a fluffy, light brown coat. The rabbit has large, pointed ears and expressive eyes that are looking directly at the viewer. Its whiskers are prominent, and it appears to be sitting upright with its front paws slightly apart. The background is a solid black, which contrasts with the rabbit's fur and highlights the animal. The image is a realistic photograph with a focus on the rabbit, and there are no visible texts or additional elements in the frame.] uses two front paws to engage in the action of eating this doughnut [The image displays a single doughnut with a glossy pink glaze. The glaze appears to be freshly applied, as indicated by the visible drips on the side of the doughnut. It is sprinkled with a variety of colorful sprinkles that are scattered across the glaze, adding a playful and festive touch to the doughnut's appearance. The doughnut itself has a golden-brown color, suggesting it has been fried, and it has a hole in the center. The background of the image is a solid black, which contrasts with the doughnut and makes it stand out prominently. There are no texts or additional elements in the image. The style of the image is a realistic 3D rendering, with a focus on the doughnut to highlight its details and textures.].\n",
      "[/User Input] and images. The first line of the image is the user input. Here's the revision [feedback]The image you provided does not match the user input. The user input describes a brown rabbit eating a doughnut, but the image you've shown is of a single doughnut without any rabbit present. If you need an image of a brown rabbit eating a doughnut, please provide a revised prompt that includes both the rabbit and the doughnut.[/feedback]. Answers are 75 words or less.\n",
      "\n",
      "[IDEA-2-3D]: imagetmp=<PIL.Image.Image image mode=RGB size=512x256 at 0x7F3C80198AC0>\n",
      "\n",
      "[IDEA-2-3D]: new input prompt = The image you provided does not match the user input. The user input describes a brown rabbit eating a doughnut, but the image you've shown is of a single doughnut without any rabbit present. If you need an image of a brown rabbit eating a doughnut, please provide a revised prompt that includes both the rabbit and the doughnut.\n"
     ]
    },
    {
     "data": {
      "application/vnd.jupyter.widget-view+json": {
       "model_id": "7275cc9db5d140f580906cb5baf6a4a5",
       "version_major": 2,
       "version_minor": 0
      },
      "text/plain": [
       "  0%|          | 0/32 [00:00<?, ?it/s]"
      ]
     },
     "metadata": {},
     "output_type": "display_data"
    },
    {
     "data": {
      "application/vnd.jupyter.widget-view+json": {
       "model_id": "0e79c8d57fe94b68bd74f387dda45243",
       "version_major": 2,
       "version_minor": 0
      },
      "text/plain": [
       "  0%|          | 0/8 [00:00<?, ?it/s]"
      ]
     },
     "metadata": {},
     "output_type": "display_data"
    },
    {
     "name": "stderr",
     "output_type": "stream",
     "text": [
      "2024-04-10 16:55:00,531 - INFO - Initializing model ...\n"
     ]
    },
    {
     "name": "stdout",
     "output_type": "stream",
     "text": [
      "png_path,= /mnt/chenjh/Idea23D/output/case1-0410-llava-34b/draft/iter-4-0-0/draft.png\n"
     ]
    },
    {
     "name": "stderr",
     "output_type": "stream",
     "text": [
      "2024-04-10 16:55:07,010 - INFO - Initializing model finished in 6478.95ms.\n",
      "2024-04-10 16:55:07,011 - INFO - Processing image ...\n",
      "2024-04-10 16:55:07,863 - INFO - Processing image finished in 852.73ms.\n",
      "2024-04-10 16:55:07,864 - INFO - Running model ...\n",
      "2024-04-10 16:55:07,865 - INFO - Running model ...\n",
      "2024-04-10 16:55:08,099 - INFO - Running model finished in 234.78ms.\n",
      "2024-04-10 16:55:08,100 - INFO - Rendering ...\n",
      "huggingface/tokenizers: The current process just got forked, after parallelism has already been used. Disabling parallelism to avoid deadlocks...\n",
      "To disable this warning, you can either:\n",
      "\t- Avoid using `tokenizers` before the fork if possible\n",
      "\t- Explicitly set the environment variable TOKENIZERS_PARALLELISM=(true | false)\n",
      "2024-04-10 16:55:12,350 - INFO - Rendering finished in 4249.63ms.\n",
      "2024-04-10 16:55:12,351 - INFO - Exporting mesh ...\n",
      "2024-04-10 16:55:13,994 - INFO - Exporting mesh finished in 1643.41ms.\n"
     ]
    },
    {
     "name": "stdout",
     "output_type": "stream",
     "text": [
      "\n",
      "[IDEA-2-3D]: i23d_res = /mnt/chenjh/Idea23D/output/case1-0410-llava-34b/draft/iter-4-0-0/mesh.obj\n",
      "\n",
      "[IDEA-2-3D]: concatenated_image output_path=/mnt/chenjh/Idea23D/output/case1-0410-llava-34b/tmp/concatenated_image-20240410165514051699.png\n",
      "\n",
      "[IDEA-2-3D]: prompt_rev = Optimize prompt [Prompt]The image features a light brown rabbit with large ears and expressive eyes, sitting upright and looking directly at the viewer. The rabbit's fur is fluffy, and its whiskers are prominent. In the background, there is a single doughnut with a glossy pink glaze and colorful sprinkles. The doughnut has a golden-brown color and a hole in the center. The background is a solid black, which contrasts with the doughnut and highlights its details. The style of the image is a realistic 3D rendering, with a focus on the doughnut to emphasize its textures and colors.[/Prompt] based on image content and details to better match user input [User Input]This brown rabbit [The image shows a close-up of a rabbit with a fluffy, light brown coat. The rabbit has large, pointed ears and expressive eyes that are looking directly at the viewer. Its whiskers are prominent, and it appears to be sitting upright with its front paws slightly apart. The background is a solid black, which contrasts with the rabbit's fur and highlights the animal. The image is a realistic photograph with a focus on the rabbit, and there are no visible texts or additional elements in the frame.] uses two front paws to engage in the action of eating this doughnut [The image displays a single doughnut with a glossy pink glaze. The glaze appears to be freshly applied, as indicated by the visible drips on the side of the doughnut. It is sprinkled with a variety of colorful sprinkles that are scattered across the glaze, adding a playful and festive touch to the doughnut's appearance. The doughnut itself has a golden-brown color, suggesting it has been fried, and it has a hole in the center. The background of the image is a solid black, which contrasts with the doughnut and makes it stand out prominently. There are no texts or additional elements in the image. The style of the image is a realistic 3D rendering, with a focus on the doughnut to highlight its details and textures.].\n",
      "[/User Input] and images. The first line of the image is the user input. Here's the revision [feedback]The image you provided does not match the user input. The user input describes a brown rabbit eating a doughnut, but the image you've shown is of a single doughnut without any rabbit present. If you need an image of a brown rabbit eating a doughnut, please provide a revised prompt that includes both the rabbit and the doughnut.[/feedback]. Answers are 75 words or less.\n",
      "\n",
      "[IDEA-2-3D]: imagetmp=<PIL.Image.Image image mode=RGB size=512x256 at 0x7F3C80198AC0>\n",
      "\n",
      "[IDEA-2-3D]: new input prompt = The image you provided does not match the user input. The user input describes a brown rabbit eating a doughnut, but the image you've shown is of a single doughnut without any rabbit present. If you need an image of a brown rabbit eating a doughnut, please provide a revised prompt that includes both the rabbit and the doughnut.\n"
     ]
    },
    {
     "data": {
      "application/vnd.jupyter.widget-view+json": {
       "model_id": "14d3ccd263f74dfb86ebab22368114d4",
       "version_major": 2,
       "version_minor": 0
      },
      "text/plain": [
       "  0%|          | 0/32 [00:00<?, ?it/s]"
      ]
     },
     "metadata": {},
     "output_type": "display_data"
    },
    {
     "data": {
      "application/vnd.jupyter.widget-view+json": {
       "model_id": "fbd596a4d1684dbda90597990b4bec1a",
       "version_major": 2,
       "version_minor": 0
      },
      "text/plain": [
       "  0%|          | 0/8 [00:00<?, ?it/s]"
      ]
     },
     "metadata": {},
     "output_type": "display_data"
    },
    {
     "name": "stderr",
     "output_type": "stream",
     "text": [
      "2024-04-10 16:56:54,554 - INFO - Initializing model ...\n"
     ]
    },
    {
     "name": "stdout",
     "output_type": "stream",
     "text": [
      "png_path,= /mnt/chenjh/Idea23D/output/case1-0410-llava-34b/draft/iter-4-1-0/draft.png\n"
     ]
    },
    {
     "name": "stderr",
     "output_type": "stream",
     "text": [
      "2024-04-10 16:57:01,083 - INFO - Initializing model finished in 6529.02ms.\n",
      "2024-04-10 16:57:01,085 - INFO - Processing image ...\n",
      "2024-04-10 16:57:02,107 - INFO - Processing image finished in 1022.42ms.\n",
      "2024-04-10 16:57:02,108 - INFO - Running model ...\n",
      "2024-04-10 16:57:02,108 - INFO - Running model ...\n",
      "2024-04-10 16:57:02,350 - INFO - Running model finished in 241.46ms.\n",
      "2024-04-10 16:57:02,350 - INFO - Rendering ...\n",
      "huggingface/tokenizers: The current process just got forked, after parallelism has already been used. Disabling parallelism to avoid deadlocks...\n",
      "To disable this warning, you can either:\n",
      "\t- Avoid using `tokenizers` before the fork if possible\n",
      "\t- Explicitly set the environment variable TOKENIZERS_PARALLELISM=(true | false)\n",
      "2024-04-10 16:57:06,627 - INFO - Rendering finished in 4276.49ms.\n",
      "2024-04-10 16:57:06,628 - INFO - Exporting mesh ...\n",
      "2024-04-10 16:57:08,424 - INFO - Exporting mesh finished in 1795.46ms.\n"
     ]
    },
    {
     "name": "stdout",
     "output_type": "stream",
     "text": [
      "\n",
      "[IDEA-2-3D]: i23d_res = /mnt/chenjh/Idea23D/output/case1-0410-llava-34b/draft/iter-4-1-0/mesh.obj\n",
      "\n",
      "[IDEA-2-3D]: concatenated_image output_path=/mnt/chenjh/Idea23D/output/case1-0410-llava-34b/tmp/concatenated_image-20240410165708475508.png\n",
      "\n",
      "[IDEA-2-3D]: prompt_rev = Optimize prompt [Prompt]The image features a light brown rabbit with large ears and expressive eyes, sitting upright and looking directly at the viewer. The rabbit's fur is fluffy, and its whiskers are prominent. In the background, there is a single doughnut with a glossy pink glaze and colorful sprinkles. The doughnut has a golden-brown color and a hole in the center. The background is a solid black, which contrasts with the doughnut and highlights its details. The style of the image is a realistic 3D rendering, with a focus on the doughnut to emphasize its textures and colors.[/Prompt] based on image content and details to better match user input [User Input]This brown rabbit [The image shows a close-up of a rabbit with a fluffy, light brown coat. The rabbit has large, pointed ears and expressive eyes that are looking directly at the viewer. Its whiskers are prominent, and it appears to be sitting upright with its front paws slightly apart. The background is a solid black, which contrasts with the rabbit's fur and highlights the animal. The image is a realistic photograph with a focus on the rabbit, and there are no visible texts or additional elements in the frame.] uses two front paws to engage in the action of eating this doughnut [The image displays a single doughnut with a glossy pink glaze. The glaze appears to be freshly applied, as indicated by the visible drips on the side of the doughnut. It is sprinkled with a variety of colorful sprinkles that are scattered across the glaze, adding a playful and festive touch to the doughnut's appearance. The doughnut itself has a golden-brown color, suggesting it has been fried, and it has a hole in the center. The background of the image is a solid black, which contrasts with the doughnut and makes it stand out prominently. There are no texts or additional elements in the image. The style of the image is a realistic 3D rendering, with a focus on the doughnut to highlight its details and textures.].\n",
      "[/User Input] and images. The first line of the image is the user input. Here's the revision [feedback]The image you provided does not match the user input. The user input describes a brown rabbit eating a doughnut, but the image you've shown is of a single doughnut without any rabbit present. If you need an image of a brown rabbit eating a doughnut, please provide a revised prompt that includes both the rabbit and the doughnut.[/feedback]. Answers are 75 words or less.\n",
      "\n",
      "[IDEA-2-3D]: imagetmp=<PIL.Image.Image image mode=RGB size=512x256 at 0x7F3C80198AC0>\n",
      "\n",
      "[IDEA-2-3D]: new input prompt = The image you provided does not match the user input. The user input describes a brown rabbit eating a doughnut, but the image you've shown is of a single doughnut without any rabbit present. If you need an image of a brown rabbit eating a doughnut, please provide a revised prompt that includes both the rabbit and the doughnut.\n"
     ]
    },
    {
     "data": {
      "application/vnd.jupyter.widget-view+json": {
       "model_id": "7c8e90e98f634f1cacc5a40c55d698b0",
       "version_major": 2,
       "version_minor": 0
      },
      "text/plain": [
       "  0%|          | 0/32 [00:00<?, ?it/s]"
      ]
     },
     "metadata": {},
     "output_type": "display_data"
    },
    {
     "data": {
      "application/vnd.jupyter.widget-view+json": {
       "model_id": "a833de0992fd4a039775c3b426215a64",
       "version_major": 2,
       "version_minor": 0
      },
      "text/plain": [
       "  0%|          | 0/8 [00:00<?, ?it/s]"
      ]
     },
     "metadata": {},
     "output_type": "display_data"
    },
    {
     "name": "stderr",
     "output_type": "stream",
     "text": [
      "2024-04-10 16:58:48,969 - INFO - Initializing model ...\n"
     ]
    },
    {
     "name": "stdout",
     "output_type": "stream",
     "text": [
      "png_path,= /mnt/chenjh/Idea23D/output/case1-0410-llava-34b/draft/iter-4-2-0/draft.png\n"
     ]
    },
    {
     "name": "stderr",
     "output_type": "stream",
     "text": [
      "2024-04-10 16:58:54,189 - INFO - Initializing model finished in 5219.43ms.\n",
      "2024-04-10 16:58:54,189 - INFO - Processing image ...\n",
      "2024-04-10 16:58:55,194 - INFO - Processing image finished in 1004.51ms.\n",
      "2024-04-10 16:58:55,195 - INFO - Running model ...\n",
      "2024-04-10 16:58:55,195 - INFO - Running model ...\n",
      "2024-04-10 16:58:55,412 - INFO - Running model finished in 217.02ms.\n",
      "2024-04-10 16:58:55,413 - INFO - Rendering ...\n",
      "huggingface/tokenizers: The current process just got forked, after parallelism has already been used. Disabling parallelism to avoid deadlocks...\n",
      "To disable this warning, you can either:\n",
      "\t- Avoid using `tokenizers` before the fork if possible\n",
      "\t- Explicitly set the environment variable TOKENIZERS_PARALLELISM=(true | false)\n",
      "2024-04-10 16:58:59,663 - INFO - Rendering finished in 4250.50ms.\n",
      "2024-04-10 16:58:59,664 - INFO - Exporting mesh ...\n",
      "2024-04-10 16:59:01,533 - INFO - Exporting mesh finished in 1868.61ms.\n"
     ]
    },
    {
     "name": "stdout",
     "output_type": "stream",
     "text": [
      "\n",
      "[IDEA-2-3D]: i23d_res = /mnt/chenjh/Idea23D/output/case1-0410-llava-34b/draft/iter-4-2-0/mesh.obj\n",
      "\n",
      "[IDEA-2-3D]: concatenated_image output_path=/mnt/chenjh/Idea23D/output/case1-0410-llava-34b/tmp/concatenated_image-20240410165901597019.png\n",
      "\n",
      "[IDEA-2-3D]: concatenated_image output_path=/mnt/chenjh/Idea23D/output/case1-0410-llava-34b/tmp/concatenated_image-20240410165901671076.png\n",
      "\n",
      "[IDEA-2-3D]: prompt_select = Each row of these images shows 6 views of a 3D model. Which row of images best meets the user input? [User Input]This brown rabbit [The image shows a close-up of a rabbit with a fluffy, light brown coat. The rabbit has large, pointed ears and expressive eyes that are looking directly at the viewer. Its whiskers are prominent, and it appears to be sitting upright with its front paws slightly apart. The background is a solid black, which contrasts with the rabbit's fur and highlights the animal. The image is a realistic photograph with a focus on the rabbit, and there are no visible texts or additional elements in the frame.] uses two front paws to engage in the action of eating this doughnut [The image displays a single doughnut with a glossy pink glaze. The glaze appears to be freshly applied, as indicated by the visible drips on the side of the doughnut. It is sprinkled with a variety of colorful sprinkles that are scattered across the glaze, adding a playful and festive touch to the doughnut's appearance. The doughnut itself has a golden-brown color, suggesting it has been fried, and it has a hole in the center. The background of the image is a solid black, which contrasts with the doughnut and makes it stand out prominently. There are no texts or additional elements in the image. The style of the image is a realistic 3D rendering, with a focus on the doughnut to highlight its details and textures.].\n",
      "[/User Input]. Only return a number in the list [0, 1, 2], the number of rows. Such as, \"1\" or \"0\".\n",
      "\n",
      "[IDEA-2-3D]: best_row answer = 1\n",
      "\n",
      "[IDEA-2-3D]: best_row = 1\n",
      "\n",
      "[IDEA-2-3D]: k=1, j=0\n",
      "\n",
      "[IDEA-2-3D]: memory.best_prompt = The image features a light brown rabbit with large ears and expressive eyes, sitting upright and looking directly at the viewer. The rabbit's fur is fluffy, and its whiskers are prominent. In the background, there is a single doughnut with a glossy pink glaze and colorful sprinkles. The doughnut has a golden-brown color and a hole in the center. The background is a solid black, which contrasts with the doughnut and highlights its details. The style of the image is a realistic 3D rendering, with a focus on the doughnut to emphasize its textures and colors.\n",
      "\n",
      "[IDEA-2-3D]: memory.best_img = <PIL.Image.Image image mode=RGB size=1536x256 at 0x7F3EFDC3F850>\n",
      "\n",
      "[IDEA-2-3D]: memory.best_3d_path = /mnt/chenjh/Idea23D/output/case1-0410-llava-34b/draft/iter-1-2-0/mesh.obj\n",
      "\n",
      "[IDEA-2-3D]: prompt_feedback = Does the diagram satisfy the user input? [User Input]This brown rabbit [The image shows a close-up of a rabbit with a fluffy, light brown coat. The rabbit has large, pointed ears and expressive eyes that are looking directly at the viewer. Its whiskers are prominent, and it appears to be sitting upright with its front paws slightly apart. The background is a solid black, which contrasts with the rabbit's fur and highlights the animal. The image is a realistic photograph with a focus on the rabbit, and there are no visible texts or additional elements in the frame.] uses two front paws to engage in the action of eating this doughnut [The image displays a single doughnut with a glossy pink glaze. The glaze appears to be freshly applied, as indicated by the visible drips on the side of the doughnut. It is sprinkled with a variety of colorful sprinkles that are scattered across the glaze, adding a playful and festive touch to the doughnut's appearance. The doughnut itself has a golden-brown color, suggesting it has been fried, and it has a hole in the center. The background of the image is a solid black, which contrasts with the doughnut and makes it stand out prominently. There are no texts or additional elements in the image. The style of the image is a realistic 3D rendering, with a focus on the doughnut to highlight its details and textures.].\n",
      "[/User Input]. Returns \"no revision\" if it matches the User Input. Give the correct prompt if it does not.\n",
      "\n",
      "[IDEA-2-3D]: feedback answer = The image you provided does not match the user input. The user input describes a brown rabbit eating a doughnut, but the image you've shown is of a single doughnut without any rabbit present. If you need an image of a brown rabbit eating a doughnut, please provide a revised prompt that includes both the rabbit and the doughnut.\n",
      "\n",
      "[IDEA-2-3D]: iter = 4\n",
      "\n",
      "[IDEA-2-3D]: prompt_rev = Optimize prompt [Prompt]The image features a light brown rabbit with large ears and expressive eyes, sitting upright and looking directly at the viewer. The rabbit's fur is fluffy, and its whiskers are prominent. In the background, there is a single doughnut with a glossy pink glaze and colorful sprinkles. The doughnut has a golden-brown color and a hole in the center. The background is a solid black, which contrasts with the doughnut and highlights its details. The style of the image is a realistic 3D rendering, with a focus on the doughnut to emphasize its textures and colors.[/Prompt] based on image content and details to better match user input [User Input]This brown rabbit [The image shows a close-up of a rabbit with a fluffy, light brown coat. The rabbit has large, pointed ears and expressive eyes that are looking directly at the viewer. Its whiskers are prominent, and it appears to be sitting upright with its front paws slightly apart. The background is a solid black, which contrasts with the rabbit's fur and highlights the animal. The image is a realistic photograph with a focus on the rabbit, and there are no visible texts or additional elements in the frame.] uses two front paws to engage in the action of eating this doughnut [The image displays a single doughnut with a glossy pink glaze. The glaze appears to be freshly applied, as indicated by the visible drips on the side of the doughnut. It is sprinkled with a variety of colorful sprinkles that are scattered across the glaze, adding a playful and festive touch to the doughnut's appearance. The doughnut itself has a golden-brown color, suggesting it has been fried, and it has a hole in the center. The background of the image is a solid black, which contrasts with the doughnut and makes it stand out prominently. There are no texts or additional elements in the image. The style of the image is a realistic 3D rendering, with a focus on the doughnut to highlight its details and textures.].\n",
      "[/User Input] and images. The first line of the image is the user input. Here's the revision [feedback]The image you provided does not match the user input. The user input describes a brown rabbit eating a doughnut, but the image you've shown is of a single doughnut without any rabbit present. If you need an image of a brown rabbit eating a doughnut, please provide a revised prompt that includes both the rabbit and the doughnut.[/feedback]. Answers are 75 words or less.\n",
      "\n",
      "[IDEA-2-3D]: imagetmp=<PIL.Image.Image image mode=RGB size=512x256 at 0x7F3C80198AC0>\n",
      "\n",
      "[IDEA-2-3D]: new input prompt = The image you provided does not match the user input. The user input describes a brown rabbit eating a doughnut, but the image you've shown is of a single doughnut without any rabbit present. If you need an image of a brown rabbit eating a doughnut, please provide a revised prompt that includes both the rabbit and the doughnut.\n"
     ]
    },
    {
     "data": {
      "application/vnd.jupyter.widget-view+json": {
       "model_id": "8016955620e44529a4f12f25340c8bec",
       "version_major": 2,
       "version_minor": 0
      },
      "text/plain": [
       "  0%|          | 0/32 [00:00<?, ?it/s]"
      ]
     },
     "metadata": {},
     "output_type": "display_data"
    },
    {
     "data": {
      "application/vnd.jupyter.widget-view+json": {
       "model_id": "1e78b2467c50416882b6b1b5d3fdf422",
       "version_major": 2,
       "version_minor": 0
      },
      "text/plain": [
       "  0%|          | 0/8 [00:00<?, ?it/s]"
      ]
     },
     "metadata": {},
     "output_type": "display_data"
    },
    {
     "name": "stderr",
     "output_type": "stream",
     "text": [
      "2024-04-10 17:01:41,177 - INFO - Initializing model ...\n"
     ]
    },
    {
     "name": "stdout",
     "output_type": "stream",
     "text": [
      "png_path,= /mnt/chenjh/Idea23D/output/case1-0410-llava-34b/draft/iter-5-0-0/draft.png\n"
     ]
    },
    {
     "name": "stderr",
     "output_type": "stream",
     "text": [
      "2024-04-10 17:01:45,956 - INFO - Initializing model finished in 4778.49ms.\n",
      "2024-04-10 17:01:45,956 - INFO - Processing image ...\n",
      "2024-04-10 17:01:46,894 - INFO - Processing image finished in 937.84ms.\n",
      "2024-04-10 17:01:46,895 - INFO - Running model ...\n",
      "2024-04-10 17:01:46,895 - INFO - Running model ...\n",
      "2024-04-10 17:01:47,132 - INFO - Running model finished in 236.85ms.\n",
      "2024-04-10 17:01:47,133 - INFO - Rendering ...\n",
      "huggingface/tokenizers: The current process just got forked, after parallelism has already been used. Disabling parallelism to avoid deadlocks...\n",
      "To disable this warning, you can either:\n",
      "\t- Avoid using `tokenizers` before the fork if possible\n",
      "\t- Explicitly set the environment variable TOKENIZERS_PARALLELISM=(true | false)\n",
      "2024-04-10 17:01:51,376 - INFO - Rendering finished in 4243.26ms.\n",
      "2024-04-10 17:01:51,377 - INFO - Exporting mesh ...\n",
      "2024-04-10 17:01:52,885 - INFO - Exporting mesh finished in 1507.87ms.\n"
     ]
    },
    {
     "name": "stdout",
     "output_type": "stream",
     "text": [
      "\n",
      "[IDEA-2-3D]: i23d_res = /mnt/chenjh/Idea23D/output/case1-0410-llava-34b/draft/iter-5-0-0/mesh.obj\n",
      "\n",
      "[IDEA-2-3D]: concatenated_image output_path=/mnt/chenjh/Idea23D/output/case1-0410-llava-34b/tmp/concatenated_image-20240410170152936249.png\n",
      "\n",
      "[IDEA-2-3D]: prompt_rev = Optimize prompt [Prompt]The image features a light brown rabbit with large ears and expressive eyes, sitting upright and looking directly at the viewer. The rabbit's fur is fluffy, and its whiskers are prominent. In the background, there is a single doughnut with a glossy pink glaze and colorful sprinkles. The doughnut has a golden-brown color and a hole in the center. The background is a solid black, which contrasts with the doughnut and highlights its details. The style of the image is a realistic 3D rendering, with a focus on the doughnut to emphasize its textures and colors.[/Prompt] based on image content and details to better match user input [User Input]This brown rabbit [The image shows a close-up of a rabbit with a fluffy, light brown coat. The rabbit has large, pointed ears and expressive eyes that are looking directly at the viewer. Its whiskers are prominent, and it appears to be sitting upright with its front paws slightly apart. The background is a solid black, which contrasts with the rabbit's fur and highlights the animal. The image is a realistic photograph with a focus on the rabbit, and there are no visible texts or additional elements in the frame.] uses two front paws to engage in the action of eating this doughnut [The image displays a single doughnut with a glossy pink glaze. The glaze appears to be freshly applied, as indicated by the visible drips on the side of the doughnut. It is sprinkled with a variety of colorful sprinkles that are scattered across the glaze, adding a playful and festive touch to the doughnut's appearance. The doughnut itself has a golden-brown color, suggesting it has been fried, and it has a hole in the center. The background of the image is a solid black, which contrasts with the doughnut and makes it stand out prominently. There are no texts or additional elements in the image. The style of the image is a realistic 3D rendering, with a focus on the doughnut to highlight its details and textures.].\n",
      "[/User Input] and images. The first line of the image is the user input. Here's the revision [feedback]The image you provided does not match the user input. The user input describes a brown rabbit eating a doughnut, but the image you've shown is of a single doughnut without any rabbit present. If you need an image of a brown rabbit eating a doughnut, please provide a revised prompt that includes both the rabbit and the doughnut.[/feedback]. Answers are 75 words or less.\n",
      "\n",
      "[IDEA-2-3D]: imagetmp=<PIL.Image.Image image mode=RGB size=512x256 at 0x7F3C80198AC0>\n",
      "\n",
      "[IDEA-2-3D]: new input prompt = The image you provided does not match the user input. The user input describes a brown rabbit eating a doughnut, but the image you've shown is of a single doughnut without any rabbit present. If you need an image of a brown rabbit eating a doughnut, please provide a revised prompt that includes both the rabbit and the doughnut.\n"
     ]
    },
    {
     "data": {
      "application/vnd.jupyter.widget-view+json": {
       "model_id": "b84c28d3f32744dd8e1ec2bc27c1de06",
       "version_major": 2,
       "version_minor": 0
      },
      "text/plain": [
       "  0%|          | 0/32 [00:00<?, ?it/s]"
      ]
     },
     "metadata": {},
     "output_type": "display_data"
    },
    {
     "data": {
      "application/vnd.jupyter.widget-view+json": {
       "model_id": "3aaded06f90b4f28bb77299b0303fd4d",
       "version_major": 2,
       "version_minor": 0
      },
      "text/plain": [
       "  0%|          | 0/8 [00:00<?, ?it/s]"
      ]
     },
     "metadata": {},
     "output_type": "display_data"
    },
    {
     "name": "stderr",
     "output_type": "stream",
     "text": [
      "2024-04-10 17:03:33,430 - INFO - Initializing model ...\n"
     ]
    },
    {
     "name": "stdout",
     "output_type": "stream",
     "text": [
      "png_path,= /mnt/chenjh/Idea23D/output/case1-0410-llava-34b/draft/iter-5-1-0/draft.png\n"
     ]
    },
    {
     "name": "stderr",
     "output_type": "stream",
     "text": [
      "2024-04-10 17:03:38,371 - INFO - Initializing model finished in 4941.70ms.\n",
      "2024-04-10 17:03:38,372 - INFO - Processing image ...\n",
      "2024-04-10 17:03:39,314 - INFO - Processing image finished in 942.31ms.\n",
      "2024-04-10 17:03:39,315 - INFO - Running model ...\n",
      "2024-04-10 17:03:39,316 - INFO - Running model ...\n",
      "2024-04-10 17:03:39,572 - INFO - Running model finished in 256.10ms.\n",
      "2024-04-10 17:03:39,573 - INFO - Rendering ...\n",
      "huggingface/tokenizers: The current process just got forked, after parallelism has already been used. Disabling parallelism to avoid deadlocks...\n",
      "To disable this warning, you can either:\n",
      "\t- Avoid using `tokenizers` before the fork if possible\n",
      "\t- Explicitly set the environment variable TOKENIZERS_PARALLELISM=(true | false)\n",
      "2024-04-10 17:03:43,786 - INFO - Rendering finished in 4213.08ms.\n",
      "2024-04-10 17:03:43,787 - INFO - Exporting mesh ...\n",
      "2024-04-10 17:03:45,666 - INFO - Exporting mesh finished in 1879.38ms.\n"
     ]
    },
    {
     "name": "stdout",
     "output_type": "stream",
     "text": [
      "\n",
      "[IDEA-2-3D]: i23d_res = /mnt/chenjh/Idea23D/output/case1-0410-llava-34b/draft/iter-5-1-0/mesh.obj\n",
      "\n",
      "[IDEA-2-3D]: concatenated_image output_path=/mnt/chenjh/Idea23D/output/case1-0410-llava-34b/tmp/concatenated_image-20240410170345720188.png\n",
      "\n",
      "[IDEA-2-3D]: prompt_rev = Optimize prompt [Prompt]The image features a light brown rabbit with large ears and expressive eyes, sitting upright and looking directly at the viewer. The rabbit's fur is fluffy, and its whiskers are prominent. In the background, there is a single doughnut with a glossy pink glaze and colorful sprinkles. The doughnut has a golden-brown color and a hole in the center. The background is a solid black, which contrasts with the doughnut and highlights its details. The style of the image is a realistic 3D rendering, with a focus on the doughnut to emphasize its textures and colors.[/Prompt] based on image content and details to better match user input [User Input]This brown rabbit [The image shows a close-up of a rabbit with a fluffy, light brown coat. The rabbit has large, pointed ears and expressive eyes that are looking directly at the viewer. Its whiskers are prominent, and it appears to be sitting upright with its front paws slightly apart. The background is a solid black, which contrasts with the rabbit's fur and highlights the animal. The image is a realistic photograph with a focus on the rabbit, and there are no visible texts or additional elements in the frame.] uses two front paws to engage in the action of eating this doughnut [The image displays a single doughnut with a glossy pink glaze. The glaze appears to be freshly applied, as indicated by the visible drips on the side of the doughnut. It is sprinkled with a variety of colorful sprinkles that are scattered across the glaze, adding a playful and festive touch to the doughnut's appearance. The doughnut itself has a golden-brown color, suggesting it has been fried, and it has a hole in the center. The background of the image is a solid black, which contrasts with the doughnut and makes it stand out prominently. There are no texts or additional elements in the image. The style of the image is a realistic 3D rendering, with a focus on the doughnut to highlight its details and textures.].\n",
      "[/User Input] and images. The first line of the image is the user input. Here's the revision [feedback]The image you provided does not match the user input. The user input describes a brown rabbit eating a doughnut, but the image you've shown is of a single doughnut without any rabbit present. If you need an image of a brown rabbit eating a doughnut, please provide a revised prompt that includes both the rabbit and the doughnut.[/feedback]. Answers are 75 words or less.\n",
      "\n",
      "[IDEA-2-3D]: imagetmp=<PIL.Image.Image image mode=RGB size=512x256 at 0x7F3C80198AC0>\n",
      "\n",
      "[IDEA-2-3D]: new input prompt = The image you provided does not match the user input. The user input describes a brown rabbit eating a doughnut, but the image you've shown is of a single doughnut without any rabbit present. If you need an image of a brown rabbit eating a doughnut, please provide a revised prompt that includes both the rabbit and the doughnut.\n"
     ]
    },
    {
     "data": {
      "application/vnd.jupyter.widget-view+json": {
       "model_id": "fe1221143f0a49958569b933c389bb16",
       "version_major": 2,
       "version_minor": 0
      },
      "text/plain": [
       "  0%|          | 0/32 [00:00<?, ?it/s]"
      ]
     },
     "metadata": {},
     "output_type": "display_data"
    },
    {
     "data": {
      "application/vnd.jupyter.widget-view+json": {
       "model_id": "aed0b2b6137743e59de590e2a6c864fc",
       "version_major": 2,
       "version_minor": 0
      },
      "text/plain": [
       "  0%|          | 0/8 [00:00<?, ?it/s]"
      ]
     },
     "metadata": {},
     "output_type": "display_data"
    },
    {
     "name": "stderr",
     "output_type": "stream",
     "text": [
      "2024-04-10 17:05:26,227 - INFO - Initializing model ...\n"
     ]
    },
    {
     "name": "stdout",
     "output_type": "stream",
     "text": [
      "png_path,= /mnt/chenjh/Idea23D/output/case1-0410-llava-34b/draft/iter-5-2-0/draft.png\n"
     ]
    },
    {
     "name": "stderr",
     "output_type": "stream",
     "text": [
      "2024-04-10 17:05:31,537 - INFO - Initializing model finished in 5309.68ms.\n",
      "2024-04-10 17:05:31,538 - INFO - Processing image ...\n",
      "2024-04-10 17:05:32,427 - INFO - Processing image finished in 889.47ms.\n",
      "2024-04-10 17:05:32,428 - INFO - Running model ...\n",
      "2024-04-10 17:05:32,428 - INFO - Running model ...\n",
      "2024-04-10 17:05:32,639 - INFO - Running model finished in 210.33ms.\n",
      "2024-04-10 17:05:32,639 - INFO - Rendering ...\n",
      "huggingface/tokenizers: The current process just got forked, after parallelism has already been used. Disabling parallelism to avoid deadlocks...\n",
      "To disable this warning, you can either:\n",
      "\t- Avoid using `tokenizers` before the fork if possible\n",
      "\t- Explicitly set the environment variable TOKENIZERS_PARALLELISM=(true | false)\n",
      "2024-04-10 17:05:36,934 - INFO - Rendering finished in 4294.32ms.\n",
      "2024-04-10 17:05:36,934 - INFO - Exporting mesh ...\n",
      "2024-04-10 17:05:38,700 - INFO - Exporting mesh finished in 1765.23ms.\n"
     ]
    },
    {
     "name": "stdout",
     "output_type": "stream",
     "text": [
      "\n",
      "[IDEA-2-3D]: i23d_res = /mnt/chenjh/Idea23D/output/case1-0410-llava-34b/draft/iter-5-2-0/mesh.obj\n",
      "\n",
      "[IDEA-2-3D]: concatenated_image output_path=/mnt/chenjh/Idea23D/output/case1-0410-llava-34b/tmp/concatenated_image-20240410170538750799.png\n",
      "\n",
      "[IDEA-2-3D]: concatenated_image output_path=/mnt/chenjh/Idea23D/output/case1-0410-llava-34b/tmp/concatenated_image-20240410170538807882.png\n",
      "\n",
      "[IDEA-2-3D]: prompt_select = Each row of these images shows 6 views of a 3D model. Which row of images best meets the user input? [User Input]This brown rabbit [The image shows a close-up of a rabbit with a fluffy, light brown coat. The rabbit has large, pointed ears and expressive eyes that are looking directly at the viewer. Its whiskers are prominent, and it appears to be sitting upright with its front paws slightly apart. The background is a solid black, which contrasts with the rabbit's fur and highlights the animal. The image is a realistic photograph with a focus on the rabbit, and there are no visible texts or additional elements in the frame.] uses two front paws to engage in the action of eating this doughnut [The image displays a single doughnut with a glossy pink glaze. The glaze appears to be freshly applied, as indicated by the visible drips on the side of the doughnut. It is sprinkled with a variety of colorful sprinkles that are scattered across the glaze, adding a playful and festive touch to the doughnut's appearance. The doughnut itself has a golden-brown color, suggesting it has been fried, and it has a hole in the center. The background of the image is a solid black, which contrasts with the doughnut and makes it stand out prominently. There are no texts or additional elements in the image. The style of the image is a realistic 3D rendering, with a focus on the doughnut to highlight its details and textures.].\n",
      "[/User Input]. Only return a number in the list [0, 1, 2], the number of rows. Such as, \"1\" or \"0\".\n",
      "\n",
      "[IDEA-2-3D]: best_row answer = 1\n",
      "\n",
      "[IDEA-2-3D]: best_row = 1\n",
      "\n",
      "[IDEA-2-3D]: k=1, j=0\n",
      "\n",
      "[IDEA-2-3D]: memory.best_prompt = The image features a light brown rabbit with large ears and expressive eyes, sitting upright and looking directly at the viewer. The rabbit's fur is fluffy, and its whiskers are prominent. In the background, there is a single doughnut with a glossy pink glaze and colorful sprinkles. The doughnut has a golden-brown color and a hole in the center. The background is a solid black, which contrasts with the doughnut and highlights its details. The style of the image is a realistic 3D rendering, with a focus on the doughnut to emphasize its textures and colors.\n",
      "\n",
      "[IDEA-2-3D]: memory.best_img = <PIL.Image.Image image mode=RGB size=1536x256 at 0x7F3EFDC3F850>\n",
      "\n",
      "[IDEA-2-3D]: memory.best_3d_path = /mnt/chenjh/Idea23D/output/case1-0410-llava-34b/draft/iter-1-2-0/mesh.obj\n",
      "\n",
      "[IDEA-2-3D]: prompt_feedback = Does the diagram satisfy the user input? [User Input]This brown rabbit [The image shows a close-up of a rabbit with a fluffy, light brown coat. The rabbit has large, pointed ears and expressive eyes that are looking directly at the viewer. Its whiskers are prominent, and it appears to be sitting upright with its front paws slightly apart. The background is a solid black, which contrasts with the rabbit's fur and highlights the animal. The image is a realistic photograph with a focus on the rabbit, and there are no visible texts or additional elements in the frame.] uses two front paws to engage in the action of eating this doughnut [The image displays a single doughnut with a glossy pink glaze. The glaze appears to be freshly applied, as indicated by the visible drips on the side of the doughnut. It is sprinkled with a variety of colorful sprinkles that are scattered across the glaze, adding a playful and festive touch to the doughnut's appearance. The doughnut itself has a golden-brown color, suggesting it has been fried, and it has a hole in the center. The background of the image is a solid black, which contrasts with the doughnut and makes it stand out prominently. There are no texts or additional elements in the image. The style of the image is a realistic 3D rendering, with a focus on the doughnut to highlight its details and textures.].\n",
      "[/User Input]. Returns \"no revision\" if it matches the User Input. Give the correct prompt if it does not.\n",
      "\n",
      "[IDEA-2-3D]: feedback answer = The image you provided does not match the user input. The user input describes a brown rabbit eating a doughnut, but the image you've shown is of a single doughnut without any rabbit present. If you need an image of a brown rabbit eating a doughnut, please provide a revised prompt that includes both the rabbit and the doughnut.\n",
      "\n",
      "[IDEA-2-3D]: cp /mnt/chenjh/Idea23D/output/case1-0410-llava-34b/draft/iter-1-2-0/mesh.obj /mnt/chenjh/Idea23D/output/case1-0410-llava-34b/mesh.obj\n",
      "\n",
      "[IDEA-2-3D]: finished! check the path /mnt/chenjh/Idea23D/output/case1-0410-llava-34b/mesh.obj\n"
     ]
    }
   ],
   "source": [
    "iters = Iter(0)\n",
    "\n",
    "for i in range(max_iters):\n",
    "    log(f'iter = {i}')\n",
    "    iters.clear()\n",
    "\n",
    "    for k in range( num_draft):\n",
    "        if i == 0: # initial round\n",
    "            prompt_gen = f'Optimize text descriptions based on image content and details to better match user input [User Input]{memory.idea_input_prompt}[/User Input] and images. Answers are 75 words or less.'\n",
    "            log(f'prompt_gen = {prompt_gen}')\n",
    "            IdeaContent = lmm.inference(prompt_gen, memory.idea_input_img)\n",
    "        else:\n",
    "            # The second round starts with memory+idea input, and the image and best prompt of the best model from the previous round.\n",
    "            prompt_rev = f'Optimize prompt [Prompt]{memory.best_prompt}[/Prompt] based on image content and details to better match user input [User Input]{memory.idea_input_prompt}[/User Input] and images. The first line of the image is the user input. Here\\'s the revision [feedback]{memory.feedback}[/feedback]. Answers are 75 words or less.'\n",
    "            log(f'prompt_rev = {prompt_rev}')\n",
    "            imagetmp = memory.idea_input_img\n",
    "            log(f'imagetmp={imagetmp}')\n",
    "            IdeaContent = lmm.inference(prompt_rev, imagetmp)\n",
    "        # Generate end of prompt, convert to image\n",
    "        log(f'new input prompt = {IdeaContent}')\n",
    "        for j in range( num_img): # Each prompt generates n charts\n",
    "            iters.prompt.append(IdeaContent)\n",
    "            imgtmp = t2i.inference(IdeaContent)\n",
    "            imgpath = f'{ outpath}/draft/iter-{i+1}-{k}-{j}/draft.png'\n",
    "            out3dpath = f'{ outpath}/draft/iter-{i+1}-{k}-{j}'\n",
    "            writeimage(imgtmp, imgpath)\n",
    "            i23d_res = i23d.inference(imgpath, out3dpath)\n",
    "            iters.draft_3d_path.append(i23d_res)\n",
    "            log(f'i23d_res = {i23d_res}')\n",
    "            #  Save 6 rendered images, and then filter, filter out the best prompt into memory.\n",
    "            img_render_list = [readimage(f'{ outpath}/draft/iter-{i+1}-{k}-{j}/render_00{idx}.png') for idx in range(6)]\n",
    "            img_render = concatenate_images_with_number_label(img_render_list) # 6 rendered images merged\n",
    "            iters.draft_img.append(img_render)\n",
    "\n",
    "    # Stitch all the images into one big picture, each row is a draft model, and the best model is filtered together.\n",
    "    append_i = -1\n",
    "    if memory.best_3d_path != None:\n",
    "      iters.prompt.append(memory.best_prompt)\n",
    "      iters.draft_img.append(memory.best_img)\n",
    "      iters.draft_3d_path.append(memory.best_3d_path)\n",
    "      append_i = 0\n",
    "\n",
    "    draft_img_comp = concatenate_images_with_number_label(iters.draft_img, 'v')\n",
    "\n",
    "    # Selection of the best draft model for the current round\n",
    "    prompt_select = f'Each row of these images shows 6 views of a 3D model. Which row of images best meets the user input? [User Input]{memory.idea_input_prompt}[/User Input]. Only return a number in the list {[kj for kj in range( num_draft * num_img)]}, the number of rows. Such as, \\\"1\\\" or \\\"0\\\".'\n",
    "    log(f'prompt_select = {prompt_select}')\n",
    "    best_row = lmm.inference(prompt_select, draft_img_comp)\n",
    "    log(f'best_row answer = {best_row}')\n",
    "    try:\n",
    "        best_row = int(best_row)\n",
    "    except ValueError:\n",
    "        # Handle failure to parse to integers\n",
    "        # Handle errors based on specific needs, such as giving default values or prompting the user to re-enter\n",
    "        if i==0:\n",
    "            best_row = 0\n",
    "        else:\n",
    "            best_row = len(iters.draft_3d_path) - 1\n",
    "        log('Failed to parse best_row as an integer. Using default value.')\n",
    "\n",
    "    log(f'best_row = {best_row}')\n",
    "\n",
    "    k = best_row //  num_img\n",
    "    j = best_row %  num_img\n",
    "    log(f'k={k}, j={j}')\n",
    "\n",
    "    memory.best_prompt = iters.prompt[k *  num_draft + j *  num_img + append_i ]\n",
    "    memory.best_img = iters.draft_img[k *  num_draft + j *  num_img + append_i ]\n",
    "    memory.best_3d_path = iters.draft_3d_path[k *  num_draft + j *  num_img + append_i ]\n",
    "    log(f'memory.best_prompt = {memory.best_prompt}')\n",
    "    log(f'memory.best_img = {memory.best_img}')\n",
    "    log(f'memory.best_3d_path = {memory.best_3d_path}')\n",
    "\n",
    "    # Determine if the output condition is met\n",
    "    # Give feedback\n",
    "    prompt_feedback = f'Does the diagram satisfy the user input? [User Input]{memory.idea_input_prompt}[/User Input]. Returns \"no revision\" if it matches the User Input. Give the correct prompt if it does not.'\n",
    "    log(f'prompt_feedback = {prompt_feedback}')\n",
    "    feedback = lmm.inference(prompt_feedback, memory.best_img)\n",
    "    log(f'feedback answer = {feedback}')\n",
    "    if 'no revision' in feedback:\n",
    "        log('output no revison , finish.')\n",
    "        break\n",
    "    memory.feedback = feedback\n",
    "    pass\n",
    "\n",
    "\n",
    "# End of iteration, save memory best model to outputs\n",
    "log(f'cp {memory.best_3d_path} {outpath}/mesh.obj')\n",
    "os.system(f'cp {memory.best_3d_path} {outpath}/mesh.obj')\n",
    "log(f'finished! check the path {outpath}/mesh.obj')"
   ]
  }
 ],
 "metadata": {
  "kernelspec": {
   "display_name": "llava",
   "language": "python",
   "name": "python3"
  },
  "language_info": {
   "codemirror_mode": {
    "name": "ipython",
    "version": 3
   },
   "file_extension": ".py",
   "mimetype": "text/x-python",
   "name": "python",
   "nbconvert_exporter": "python",
   "pygments_lexer": "ipython3",
   "version": "3.10.13"
  }
 },
 "nbformat": 4,
 "nbformat_minor": 2
}
